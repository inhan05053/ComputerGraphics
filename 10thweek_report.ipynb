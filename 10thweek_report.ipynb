{
  "nbformat": 4,
  "nbformat_minor": 0,
  "metadata": {
    "colab": {
      "name": "10thweek_report.ipynb",
      "provenance": [],
      "collapsed_sections": [],
      "include_colab_link": true
    },
    "kernelspec": {
      "name": "python3",
      "display_name": "Python 3"
    },
    "language_info": {
      "name": "python"
    },
    "accelerator": "GPU"
  },
  "cells": [
    {
      "cell_type": "markdown",
      "metadata": {
        "id": "view-in-github",
        "colab_type": "text"
      },
      "source": [
        "<a href=\"https://colab.research.google.com/github/inhan05053/ComputerGraphics/blob/main/10thweek_report.ipynb\" target=\"_parent\"><img src=\"https://colab.research.google.com/assets/colab-badge.svg\" alt=\"Open In Colab\"/></a>"
      ]
    },
    {
      "cell_type": "code",
      "metadata": {
        "id": "wlAQAedbUaJ_"
      },
      "source": [
        "import tensorflow as tf\n",
        "from tensorflow import keras\n",
        "import matplotlib.pyplot as plt\n",
        "import numpy as np"
      ],
      "execution_count": 2,
      "outputs": []
    },
    {
      "cell_type": "code",
      "metadata": {
        "colab": {
          "base_uri": "https://localhost:8080/"
        },
        "id": "erFJhyfKUbKe",
        "outputId": "28639b07-dcfb-48cb-9f60-e76206a6bddd"
      },
      "source": [
        "cifar10 = tf.keras.datasets.cifar10\n",
        "\n",
        "(train_inputs, train_labels), (test_inputs, test_labels) = cifar10.load_data()"
      ],
      "execution_count": 3,
      "outputs": [
        {
          "output_type": "stream",
          "name": "stdout",
          "text": [
            "Downloading data from https://www.cs.toronto.edu/~kriz/cifar-10-python.tar.gz\n",
            "170500096/170498071 [==============================] - 2s 0us/step\n",
            "170508288/170498071 [==============================] - 2s 0us/step\n"
          ]
        }
      ]
    },
    {
      "cell_type": "code",
      "metadata": {
        "colab": {
          "base_uri": "https://localhost:8080/"
        },
        "id": "W9Tu0xM3UbdV",
        "outputId": "1c1cc3c7-962e-4be3-be20-2f9d71854f14"
      },
      "source": [
        "print(train_inputs.shape)\n",
        "print(train_labels.shape)"
      ],
      "execution_count": 4,
      "outputs": [
        {
          "output_type": "stream",
          "name": "stdout",
          "text": [
            "(50000, 32, 32, 3)\n",
            "(50000, 1)\n"
          ]
        }
      ]
    },
    {
      "cell_type": "code",
      "metadata": {
        "colab": {
          "base_uri": "https://localhost:8080/",
          "height": 266
        },
        "id": "Oa73A2z3UcSl",
        "outputId": "adf69f1d-fac4-451f-d70c-e09e16b13399"
      },
      "source": [
        "plt.imshow(train_inputs[0])\n",
        "plt.show()"
      ],
      "execution_count": 5,
      "outputs": [
        {
          "output_type": "display_data",
          "data": {
            "image/png": "[encoded data removed]",
            "text/plain": [
              "<Figure size 432x288 with 1 Axes>"
            ]
          },
          "metadata": {
            "needs_background": "light"
          }
        }
      ]
    },
    {
      "cell_type": "code",
      "metadata": {
        "id": "F3jblvc6UdWs"
      },
      "source": [
        "train_inputs = train_inputs / 255.0\n",
        "test_inputs = test_inputs / 255.0"
      ],
      "execution_count": 6,
      "outputs": []
    },
    {
      "cell_type": "code",
      "metadata": {
        "id": "NMAyIpxYUeXM"
      },
      "source": [
        "model = keras.Sequential([\n",
        "                          keras.Input(shape=(32,32,3)),\n",
        "                          keras.layers.Flatten(),\n",
        "                          keras.layers.Dense(128,activation='relu'),\n",
        "                          keras.layers.Dense(10,activation='softmax'),\n",
        "                          ])"
      ],
      "execution_count": 22,
      "outputs": []
    },
    {
      "cell_type": "code",
      "metadata": {
        "colab": {
          "base_uri": "https://localhost:8080/"
        },
        "id": "-sG-nCQQUe91",
        "outputId": "fb820730-bf17-46bd-e998-a3bcdd12369d"
      },
      "source": [
        "model.summary()"
      ],
      "execution_count": 27,
      "outputs": [
        {
          "output_type": "stream",
          "name": "stdout",
          "text": [
            "Model: \"sequential_5\"\n",
            "_________________________________________________________________\n",
            " Layer (type)                Output Shape              Param #   \n",
            "=================================================================\n",
            " conv2d_8 (Conv2D)           (None, 28, 28, 12)        912       \n",
            "                                                                 \n",
            " max_pooling2d_4 (MaxPooling  (None, 14, 14, 12)       0         \n",
            " 2D)                                                             \n",
            "                                                                 \n",
            " conv2d_9 (Conv2D)           (None, 10, 10, 8)         2408      \n",
            "                                                                 \n",
            " flatten_5 (Flatten)         (None, 800)               0         \n",
            "                                                                 \n",
            " dense_6 (Dense)             (None, 10)                8010      \n",
            "                                                                 \n",
            "=================================================================\n",
            "Total params: 11,330\n",
            "Trainable params: 11,330\n",
            "Non-trainable params: 0\n",
            "_________________________________________________________________\n"
          ]
        }
      ]
    },
    {
      "cell_type": "code",
      "metadata": {
        "colab": {
          "base_uri": "https://localhost:8080/"
        },
        "id": "kgtfzbjTUfr9",
        "outputId": "408366a1-4173-4bd7-f279-30371d737a34"
      },
      "source": [
        "model_flatten = tf.keras.Model(inputs=model.input, outputs=model.layers[0].output)\n",
        "test_output1 = model_flatten(tf.expand_dims(train_inputs[0],axis=0))\n",
        "print(test_output1)"
      ],
      "execution_count": 11,
      "outputs": [
        {
          "output_type": "stream",
          "name": "stdout",
          "text": [
            "tf.Tensor(\n",
            "[[[[ 0.0731937   0.2120466   0.0066745  ...  0.07593341  0.09543985\n",
            "    -0.01710006]\n",
            "   [ 0.10176602  0.2720543   0.04511229 ...  0.00925088  0.09798363\n",
            "    -0.01716404]\n",
            "   [ 0.1290437   0.30926517  0.0104396  ... -0.00893513  0.09088117\n",
            "     0.0333705 ]\n",
            "   ...\n",
            "   [ 0.19688179  0.35386974 -0.08831917 ...  0.03444961  0.15633702\n",
            "     0.14857316]\n",
            "   [ 0.2052865   0.3452276  -0.08640324 ...  0.02269083  0.1625712\n",
            "     0.15189308]\n",
            "   [ 0.17822655  0.31988522 -0.09342456 ...  0.04031989  0.15872863\n",
            "     0.16199072]]\n",
            "\n",
            "  [[ 0.03752058  0.25987443  0.01192811 ...  0.02889152  0.07503399\n",
            "    -0.01106582]\n",
            "   [ 0.07862145  0.3002687   0.01962179 ... -0.04279836  0.09859814\n",
            "    -0.01437017]\n",
            "   [ 0.10288954  0.32476747 -0.02903184 ... -0.03309886  0.09597842\n",
            "     0.04123994]\n",
            "   ...\n",
            "   [ 0.14867544  0.33133668 -0.08043943 ...  0.00322169  0.13831867\n",
            "     0.16533223]\n",
            "   [ 0.14318435  0.2981176  -0.06031927 ... -0.00454261  0.14427799\n",
            "     0.17513938]\n",
            "   [ 0.15091495  0.27304402 -0.07207727 ... -0.00989886  0.11908083\n",
            "     0.17194632]]\n",
            "\n",
            "  [[ 0.07615268  0.302244   -0.00459258 ...  0.01167519  0.07372908\n",
            "     0.00522116]\n",
            "   [ 0.09840868  0.3195161  -0.00716447 ... -0.03587821  0.08005634\n",
            "     0.01627484]\n",
            "   [ 0.11736961  0.3410518  -0.05475469 ... -0.01697734  0.09426312\n",
            "     0.06088915]\n",
            "   ...\n",
            "   [ 0.14770715  0.3033479  -0.1011846  ...  0.01914115  0.11007137\n",
            "     0.15145537]\n",
            "   [ 0.13285883  0.2560707  -0.09122685 ...  0.00408637  0.12942898\n",
            "     0.14899561]\n",
            "   [ 0.14504543  0.2138612  -0.09154788 ... -0.01168907  0.12937124\n",
            "     0.15034662]]\n",
            "\n",
            "  ...\n",
            "\n",
            "  [[ 0.143412    0.44231123 -0.15760309 ...  0.09206536  0.12932116\n",
            "     0.16851625]\n",
            "   [ 0.13669015  0.40476653 -0.0749294  ...  0.04637692  0.11449694\n",
            "     0.10263965]\n",
            "   [ 0.1368503   0.40871295 -0.06005194 ...  0.05067326  0.1369682\n",
            "     0.11473146]\n",
            "   ...\n",
            "   [ 0.07734744  0.4937323   0.0166977  ...  0.04077765  0.20520797\n",
            "     0.14078204]\n",
            "   [ 0.16628762  0.3898389  -0.11700004 ... -0.05381228  0.22315006\n",
            "     0.21460247]\n",
            "   [ 0.3370965   0.3525428  -0.18251319 ... -0.16084167  0.19968286\n",
            "     0.1638976 ]]\n",
            "\n",
            "  [[ 0.16553372  0.4711224  -0.19523211 ...  0.09016363  0.1667457\n",
            "     0.1331981 ]\n",
            "   [ 0.14819252  0.42654568 -0.10152849 ...  0.02796048  0.15041322\n",
            "     0.05993568]\n",
            "   [ 0.13459784  0.43477684 -0.07179768 ...  0.0396747   0.14632988\n",
            "     0.09275995]\n",
            "   ...\n",
            "   [ 0.15148419  0.44050348  0.02439974 ... -0.0328996   0.20207627\n",
            "     0.12432668]\n",
            "   [ 0.25385737  0.29549256 -0.18674    ... -0.05747108  0.16668192\n",
            "     0.1461308 ]\n",
            "   [ 0.32757482  0.27953535 -0.20144503 ... -0.12168713  0.21833444\n",
            "     0.07349881]]\n",
            "\n",
            "  [[ 0.19895762  0.51499236 -0.19281982 ...  0.07141438  0.19281265\n",
            "     0.1441551 ]\n",
            "   [ 0.1602243   0.48297796 -0.12638764 ...  0.01716421  0.1769056\n",
            "     0.05389906]\n",
            "   [ 0.13696238  0.47829753 -0.10887992 ...  0.04344145  0.17695044\n",
            "     0.06878181]\n",
            "   ...\n",
            "   [ 0.16164002  0.3874278   0.02347251 ...  0.00841551  0.19575164\n",
            "     0.10196391]\n",
            "   [ 0.23215522  0.2422105  -0.19904274 ...  0.02746583  0.08977136\n",
            "     0.07920326]\n",
            "   [ 0.22454126  0.2800176  -0.19285063 ...  0.00447226  0.18062823\n",
            "     0.04275932]]]], shape=(1, 28, 28, 28), dtype=float32)\n"
          ]
        }
      ]
    },
    {
      "cell_type": "code",
      "metadata": {
        "colab": {
          "base_uri": "https://localhost:8080/"
        },
        "id": "uZTh5SyzUhUk",
        "outputId": "f4cc8727-d741-4120-9e7c-0b0b8becabad"
      },
      "source": [
        "model_dense1 = tf.keras.Model(inputs=model.input, outputs=model.layers[1].output)\n",
        "test_output2 = model_dense1(tf.expand_dims(train_inputs[0],axis=0))\n",
        "print(test_output2)"
      ],
      "execution_count": 12,
      "outputs": [
        {
          "output_type": "stream",
          "name": "stdout",
          "text": [
            "tf.Tensor(\n",
            "[[[[ 0.10176602  0.3002687   0.04511229 ...  0.07593341  0.09859814\n",
            "    -0.01106582]\n",
            "   [ 0.15512912  0.32844627  0.0104396  ... -0.00893513  0.10446995\n",
            "     0.07348776]\n",
            "   [ 0.1826706   0.33120933 -0.05337398 ...  0.00828578  0.14104494\n",
            "     0.0957436 ]\n",
            "   ...\n",
            "   [ 0.18081005  0.3812939  -0.05856217 ...  0.03932936  0.17944133\n",
            "     0.1322668 ]\n",
            "   [ 0.19688179  0.36246577 -0.05706903 ...  0.03735018  0.15665422\n",
            "     0.16533223]\n",
            "   [ 0.2052865   0.3452276  -0.06031927 ...  0.04031989  0.1625712\n",
            "     0.17513938]]\n",
            "\n",
            "  [[ 0.10982698  0.33710438 -0.00459258 ...  0.01167519  0.08745622\n",
            "     0.0416847 ]\n",
            "   [ 0.12668425  0.3545846  -0.05475469 ...  0.00975125  0.11430948\n",
            "     0.08900354]\n",
            "   [ 0.1308458   0.3437858  -0.05435978 ...  0.04110201  0.13382007\n",
            "     0.08563136]\n",
            "   ...\n",
            "   [ 0.15296924  0.38004744 -0.08409736 ...  0.03294928  0.18835428\n",
            "     0.11923414]\n",
            "   [ 0.14770715  0.31995672 -0.08072685 ...  0.0428899   0.12100194\n",
            "     0.15145537]\n",
            "   [ 0.14504543  0.2560707  -0.09122685 ...  0.04610682  0.12942898\n",
            "     0.15034662]]\n",
            "\n",
            "  [[ 0.12833104  0.3797868  -0.06060705 ...  0.03546129  0.1123726\n",
            "     0.12176695]\n",
            "   [ 0.12842624  0.37272102 -0.0825831  ...  0.03423979  0.12475568\n",
            "     0.12220539]\n",
            "   [ 0.122146    0.36990133 -0.05071413 ...  0.03244561  0.1457298\n",
            "     0.10359371]\n",
            "   ...\n",
            "   [ 0.169057    0.357281   -0.07260469 ...  0.0385178   0.1798037\n",
            "     0.08273902]\n",
            "   [ 0.14492154  0.34610522 -0.10880544 ...  0.08291926  0.16075282\n",
            "     0.11950874]\n",
            "   [ 0.09244417  0.32952052 -0.07567898 ...  0.10205591  0.11981115\n",
            "     0.1158209 ]]\n",
            "\n",
            "  ...\n",
            "\n",
            "  [[ 0.17863353  0.40927878 -0.04126426 ...  0.07946582  0.12486405\n",
            "     0.21452165]\n",
            "   [ 0.17898978  0.4291488  -0.04590037 ...  0.01331463  0.19194691\n",
            "     0.1309204 ]\n",
            "   [ 0.19145553  0.48710027 -0.02599346 ...  0.01029047  0.23138641\n",
            "     0.15991652]\n",
            "   ...\n",
            "   [ 0.12243686  0.4131238  -0.02023371 ...  0.09272739  0.13558099\n",
            "     0.12153423]\n",
            "   [ 0.14615873  0.45164704 -0.08833064 ...  0.10475448  0.1801786\n",
            "     0.09670801]\n",
            "   [ 0.13453014  0.43526995 -0.02194274 ...  0.09389297  0.2488612\n",
            "     0.17776267]]\n",
            "\n",
            "  [[ 0.143412    0.44231123 -0.06642768 ...  0.09219451  0.12932116\n",
            "     0.20287536]\n",
            "   [ 0.1632718   0.40871295 -0.03839128 ...  0.05067326  0.1369682\n",
            "     0.13316895]\n",
            "   [ 0.19361861  0.42204565 -0.05557622 ...  0.02835037  0.21604897\n",
            "     0.1397949 ]\n",
            "   ...\n",
            "   [ 0.14439623  0.41373196 -0.07781139 ...  0.03408907  0.1617153\n",
            "     0.17647502]\n",
            "   [ 0.14094873  0.4937323   0.0166977  ...  0.10818897  0.20897533\n",
            "     0.14078204]\n",
            "   [ 0.3370965   0.42450273 -0.04855269 ...  0.02863465  0.24491048\n",
            "     0.22224015]]\n",
            "\n",
            "  [[ 0.19895762  0.51499236 -0.10152849 ...  0.09016363  0.19281265\n",
            "     0.1441551 ]\n",
            "   [ 0.1516384   0.47829753 -0.05795063 ...  0.05060736  0.17695044\n",
            "     0.12337835]\n",
            "   [ 0.16655198  0.45446974 -0.05933928 ...  0.07382651  0.15498969\n",
            "     0.15145722]\n",
            "   ...\n",
            "   [ 0.18960889  0.34540316 -0.08436626 ... -0.00373243  0.16389926\n",
            "     0.18909833]\n",
            "   [ 0.1633704   0.45158908  0.02439974 ...  0.00841551  0.24316871\n",
            "     0.14541657]\n",
            "   [ 0.32757482  0.29549256 -0.18674    ...  0.02746583  0.21833444\n",
            "     0.1461308 ]]]], shape=(1, 14, 14, 28), dtype=float32)\n"
          ]
        }
      ]
    },
    {
      "cell_type": "code",
      "metadata": {
        "colab": {
          "base_uri": "https://localhost:8080/"
        },
        "id": "teUF2itnUjR0",
        "outputId": "bf969dc4-a01c-43fe-8fb0-9c8b49f3eb2b"
      },
      "source": [
        "model_dense2 = tf.keras.Model(inputs=model.input, outputs=model.layers[2].output)\n",
        "test_output3 = model_dense2(tf.expand_dims(train_inputs[0],axis=0))\n",
        "print(test_output3)"
      ],
      "execution_count": 13,
      "outputs": [
        {
          "output_type": "stream",
          "name": "stdout",
          "text": [
            "tf.Tensor(\n",
            "[[[[-2.16146067e-01 -8.63274485e-02 -2.28752404e-01 -1.85896203e-01\n",
            "    -1.01066574e-01 -1.94622844e-01  3.52352381e-01  9.33192819e-02\n",
            "     1.28141016e-01 -2.44005054e-01]\n",
            "   [-2.34084055e-01 -1.23613290e-01 -2.33161509e-01 -2.11058944e-01\n",
            "    -1.60918236e-01 -2.24288508e-01  1.99168265e-01  6.08342215e-02\n",
            "     7.74836391e-02 -2.95927107e-01]\n",
            "   [-1.97715238e-01 -6.14689291e-02 -2.23064139e-01 -2.06574321e-01\n",
            "    -1.45109236e-01 -3.00490201e-01  1.69482917e-01  8.74108151e-02\n",
            "     6.04541525e-02 -3.43533397e-01]\n",
            "   [-2.63706595e-01 -4.10664044e-02 -1.94435731e-01 -2.36739546e-01\n",
            "    -7.47998059e-02 -2.76739925e-01  2.01573461e-01  8.23260769e-02\n",
            "     4.34317142e-02 -3.09137881e-01]\n",
            "   [-2.29824781e-01  5.57681173e-03 -2.10737079e-01 -1.97724283e-01\n",
            "    -1.16847903e-01 -1.99961051e-01  2.16006652e-01  1.61967892e-02\n",
            "     2.18931288e-02 -3.34224224e-01]\n",
            "   [-2.04154164e-01 -9.55229700e-02 -2.31413499e-01 -1.89922363e-01\n",
            "    -1.61393285e-01 -2.00816542e-01  2.48502761e-01  1.06203593e-01\n",
            "    -8.52699578e-03 -3.07638526e-01]\n",
            "   [-1.75275967e-01 -5.89386858e-02 -2.00263262e-01 -2.46952683e-01\n",
            "    -1.43886194e-01 -2.18218833e-01  2.86343277e-01  1.91498026e-01\n",
            "     5.03859222e-02 -3.06846023e-01]\n",
            "   [-1.87666744e-01 -1.76282525e-02 -1.78087890e-01 -2.46672332e-01\n",
            "    -7.63031319e-02 -3.43970090e-01  3.62176985e-01  1.20077267e-01\n",
            "     3.03074904e-03 -2.81520367e-01]\n",
            "   [-1.64758429e-01 -8.50215554e-03 -2.51661271e-01 -1.57242373e-01\n",
            "    -2.52119265e-02 -2.66163319e-01  3.17680657e-01  8.24310631e-02\n",
            "     7.04374388e-02 -3.06307286e-01]\n",
            "   [-1.93751678e-01 -4.00402024e-02 -2.53058583e-01 -1.59036964e-01\n",
            "    -1.16728432e-01 -2.21455410e-01  3.38136196e-01  8.22931752e-02\n",
            "     1.28853858e-01 -3.09528351e-01]]\n",
            "\n",
            "  [[-2.30690703e-01 -9.61945355e-02 -2.85094172e-01 -1.70203894e-01\n",
            "    -8.49805325e-02 -1.86324626e-01  2.60243893e-01  1.59271471e-02\n",
            "     1.26435757e-01 -2.62970865e-01]\n",
            "   [-2.50196159e-01 -1.55036658e-01 -2.44455665e-01 -2.00018466e-01\n",
            "    -1.37646049e-01 -1.98770955e-01  2.09958494e-01  2.64838152e-02\n",
            "     8.65273625e-02 -2.90152431e-01]\n",
            "   [-2.44964391e-01 -5.74588999e-02 -2.33249977e-01 -1.89784825e-01\n",
            "    -1.74878359e-01 -1.98440567e-01  2.46106759e-01 -7.27810897e-03\n",
            "     4.12356481e-02 -3.53013933e-01]\n",
            "   [-2.73423135e-01 -4.13197465e-02 -1.71343029e-01 -2.26004660e-01\n",
            "    -1.60072237e-01 -1.85507879e-01  2.81105399e-01  8.24592710e-02\n",
            "    -5.14056124e-02 -3.31370801e-01]\n",
            "   [-2.47842431e-01 -7.50656649e-02 -2.93254316e-01 -2.04362750e-01\n",
            "    -1.34087548e-01 -2.26156145e-01  2.65870005e-01  1.14093460e-01\n",
            "    -8.42681229e-02 -3.83736402e-01]\n",
            "   [-2.83979774e-01 -8.93135443e-02 -2.19362706e-01 -2.18652457e-01\n",
            "    -1.69238120e-01 -2.52096772e-01  2.91456670e-01  1.13128178e-01\n",
            "    -5.90075590e-02 -2.46534929e-01]\n",
            "   [-3.49322468e-01 -4.88463268e-02 -2.62750983e-01 -1.57410741e-01\n",
            "    -2.13523909e-01 -1.47516549e-01  3.77259254e-01  1.22006215e-01\n",
            "    -3.43098938e-02 -2.23617271e-01]\n",
            "   [-2.02543348e-01 -5.21546304e-02 -3.25540513e-01 -1.90095127e-01\n",
            "    -6.63584769e-02 -2.55931973e-01  4.69894111e-01  7.90253431e-02\n",
            "    -7.79298618e-02 -3.07963669e-01]\n",
            "   [-1.89108267e-01  6.07132912e-04 -2.71739274e-01 -2.11345583e-01\n",
            "    -2.24496685e-02 -2.79168755e-01  3.86590898e-01  1.26168534e-01\n",
            "    -2.10235007e-02 -1.87935069e-01]\n",
            "   [-2.03423470e-01  1.23056844e-02 -3.15853447e-01 -1.74702615e-01\n",
            "    -4.56254780e-02 -3.20556164e-01  3.95150363e-01  6.02820329e-02\n",
            "     2.12727897e-02 -2.23411813e-01]]\n",
            "\n",
            "  [[-2.69606173e-01 -5.55925295e-02 -3.34180087e-01 -2.41255224e-01\n",
            "    -8.72292146e-02 -2.78738499e-01  2.02229634e-01  7.12359995e-02\n",
            "     7.27788880e-02 -3.24012816e-01]\n",
            "   [-2.79627502e-01 -2.89933346e-02 -3.51469576e-01 -1.86731428e-01\n",
            "    -9.79576260e-02 -2.38108829e-01  2.61932641e-01  8.13301057e-02\n",
            "     3.66193689e-02 -3.32646698e-01]\n",
            "   [-2.84158170e-01 -1.69481039e-02 -3.09917569e-01 -1.14105791e-01\n",
            "    -1.46199793e-01 -1.88477844e-01  2.91747659e-01  7.67159015e-02\n",
            "    -7.63891041e-02 -3.24261487e-01]\n",
            "   [-3.32504630e-01  2.20091417e-02 -3.33972991e-01 -1.18483812e-01\n",
            "    -5.22024333e-02 -1.96163893e-01  3.20422947e-01  1.10024095e-01\n",
            "    -8.25978518e-02 -3.40557337e-01]\n",
            "   [-3.39638412e-01 -7.03370795e-02 -3.39552522e-01 -1.80916339e-01\n",
            "    -1.44224286e-01 -2.26026118e-01  4.60221797e-01  8.29842985e-02\n",
            "    -1.03608064e-01 -2.81947494e-01]\n",
            "   [-4.02993083e-01 -3.56431380e-02 -3.60573083e-01 -1.71989962e-01\n",
            "    -1.52594060e-01 -2.19123244e-01  4.70194697e-01  9.57043245e-02\n",
            "    -7.68361241e-02 -2.04727218e-01]\n",
            "   [-3.06417823e-01 -4.81030047e-02 -3.29250097e-01 -9.42268968e-02\n",
            "    -1.44720629e-01 -1.40122086e-01  4.93988395e-01  1.29444540e-01\n",
            "    -8.63700584e-02 -2.64500260e-01]\n",
            "   [-3.08207780e-01 -1.03169732e-01 -3.89028311e-01 -1.85969085e-01\n",
            "    -2.09810108e-01 -7.96466395e-02  4.98258084e-01  7.70386755e-02\n",
            "    -5.33220917e-02 -2.58732498e-01]\n",
            "   [-2.55607903e-01 -6.08336478e-02 -3.29813331e-01 -2.09451199e-01\n",
            "    -1.19187988e-01 -2.22122446e-01  5.01312375e-01  1.36479110e-01\n",
            "    -4.32890430e-02 -2.62686253e-01]\n",
            "   [-1.97426721e-01  6.19089790e-02 -3.23919356e-01 -1.78689361e-01\n",
            "    -1.15147740e-01 -3.10180008e-01  5.08300900e-01  6.97224960e-03\n",
            "    -3.07084620e-03 -2.37450436e-01]]\n",
            "\n",
            "  [[-3.21796149e-01 -7.82987848e-02 -2.80438602e-01 -2.26149455e-01\n",
            "    -8.98321643e-02 -2.92257071e-01  2.17225716e-01  8.08648989e-02\n",
            "    -2.24882364e-03 -4.16981161e-01]\n",
            "   [-3.47705424e-01 -1.08436570e-02 -4.55883712e-01 -1.85331598e-01\n",
            "    -9.59515050e-02 -2.68605292e-01  3.43633026e-01  8.72892365e-02\n",
            "    -4.13252860e-02 -4.58346963e-01]\n",
            "   [-3.09242547e-01 -7.34550208e-02 -3.78203571e-01 -8.06736574e-02\n",
            "    -3.20352539e-02 -2.02078819e-01  3.48140299e-01  1.34986714e-01\n",
            "    -1.26199082e-01 -3.14802915e-01]\n",
            "   [-4.75450128e-01 -1.52679645e-02 -4.26638871e-01 -1.60057500e-01\n",
            "    -1.14305638e-01 -2.37433657e-01  4.45402294e-01  2.48262376e-01\n",
            "    -1.63585365e-01 -2.71959126e-01]\n",
            "   [-4.58641469e-01  4.79798019e-03 -4.31578070e-01 -1.80002794e-01\n",
            "    -1.21901587e-01 -1.75348669e-01  6.19377315e-01  1.50373191e-01\n",
            "    -3.45654823e-02 -2.54139662e-01]\n",
            "   [-4.70614105e-01 -7.04793260e-02 -4.93721843e-01 -1.64305538e-01\n",
            "    -9.85893905e-02 -1.94939762e-01  5.52903414e-01  2.35355109e-01\n",
            "    -6.74186088e-03 -3.01468045e-01]\n",
            "   [-4.62824970e-01 -1.19055510e-01 -4.55390573e-01 -2.30556637e-01\n",
            "    -1.19395629e-01 -2.45134920e-01  4.84401494e-01  9.53217745e-02\n",
            "    -1.92215703e-02 -2.99834609e-01]\n",
            "   [-4.65310454e-01 -1.33971512e-01 -5.01722276e-01 -2.91008621e-01\n",
            "    -8.78126100e-02 -2.84419566e-01  4.05327260e-01  4.40208837e-02\n",
            "     1.23207783e-02 -2.71241546e-01]\n",
            "   [-4.22780067e-01 -1.77095234e-01 -4.26052272e-01 -2.11922094e-01\n",
            "     9.59401578e-03 -2.10788369e-01  4.93791461e-01 -1.12585947e-02\n",
            "    -1.15843713e-02 -3.03343594e-01]\n",
            "   [-1.98991671e-01 -1.15854703e-01 -3.85166377e-01 -1.52790889e-01\n",
            "    -3.27789858e-02 -2.78655529e-01  5.63617051e-01  1.15094706e-02\n",
            "    -1.12568606e-02 -2.45593861e-01]]\n",
            "\n",
            "  [[-4.38209176e-01 -6.07930720e-02 -2.61107326e-01 -2.43579149e-01\n",
            "    -1.87036023e-01 -2.18211070e-01  3.85134339e-01  1.74693853e-01\n",
            "     2.60416530e-02 -4.00022984e-01]\n",
            "   [-4.61490691e-01 -1.01942867e-02 -3.38190615e-01 -2.62776762e-01\n",
            "    -1.48562312e-01 -3.46519887e-01  4.55564141e-01  1.66100010e-01\n",
            "    -1.37418598e-01 -4.45737273e-01]\n",
            "   [-4.04658437e-01 -4.07174975e-02 -3.57333869e-01 -2.24138260e-01\n",
            "     4.51678503e-03 -3.13031644e-01  5.07941902e-01  2.33653784e-01\n",
            "    -7.71282464e-02 -3.19759279e-01]\n",
            "   [-6.31635785e-01 -5.89534156e-02 -4.45205003e-01 -2.69445896e-01\n",
            "    -3.67499292e-02 -3.36194754e-01  5.88438988e-01  2.55429924e-01\n",
            "     4.10672650e-02 -3.49919498e-01]\n",
            "   [-5.72539687e-01 -8.73239487e-02 -5.25599003e-01 -2.21406579e-01\n",
            "     6.84380531e-04 -2.87330270e-01  5.61805665e-01  1.54659539e-01\n",
            "     1.10876404e-01 -3.65919530e-01]\n",
            "   [-5.32965779e-01 -2.38779217e-01 -5.29528081e-01 -2.53599614e-01\n",
            "    -1.35919690e-01 -2.72045195e-01  4.71355587e-01  1.60630167e-01\n",
            "     1.10518470e-01 -3.67535353e-01]\n",
            "   [-5.19079745e-01 -1.01732180e-01 -5.67007303e-01 -2.35162929e-01\n",
            "    -1.01739541e-01 -3.25245619e-01  4.62779164e-01  9.18296278e-02\n",
            "     1.24575272e-01 -4.41186249e-01]\n",
            "   [-5.02449334e-01 -1.64543867e-01 -5.48494637e-01 -1.77742988e-01\n",
            "    -1.42014280e-01 -2.95589447e-01  3.73258233e-01  1.50073260e-01\n",
            "     2.33647346e-01 -4.61924732e-01]\n",
            "   [-4.79418099e-01 -1.45824805e-01 -5.59769750e-01 -2.54334509e-01\n",
            "    -1.72082916e-01 -3.71615171e-01  3.71840298e-01  8.19552615e-02\n",
            "     1.08216852e-01 -5.03188312e-01]\n",
            "   [-2.20863655e-01 -1.17890611e-01 -4.49468613e-01 -1.53256297e-01\n",
            "    -5.95879927e-02 -3.31781209e-01  3.81727755e-01  1.17019907e-01\n",
            "     1.12680040e-01 -4.14829105e-01]]\n",
            "\n",
            "  [[-4.51609313e-01 -1.31917238e-01 -3.83205056e-01 -2.78983623e-01\n",
            "    -1.57138810e-01 -1.91315442e-01  4.72461402e-01  2.09269613e-01\n",
            "     6.14924580e-02 -4.25920129e-01]\n",
            "   [-4.21257406e-01 -2.40326554e-01 -4.05973345e-01 -2.53895015e-01\n",
            "    -3.68281677e-02 -3.00731957e-01  4.26289231e-01  1.96959615e-01\n",
            "    -1.13923281e-01 -4.67953116e-01]\n",
            "   [-5.70421278e-01 -1.46773279e-01 -3.03269714e-01 -3.50517929e-01\n",
            "    -1.19619340e-01 -2.68296957e-01  4.05479282e-01  2.35591307e-01\n",
            "     1.69209331e-01 -3.56602013e-01]\n",
            "   [-4.91422355e-01 -1.45938292e-01 -4.06458795e-01 -2.48588353e-01\n",
            "    -4.01693135e-02 -3.05553019e-01  6.28723562e-01  1.73601657e-01\n",
            "     1.51120126e-01 -4.76453543e-01]\n",
            "   [-4.66308594e-01 -1.02170929e-01 -5.40653706e-01 -3.33159745e-01\n",
            "    -1.24838822e-01 -4.01216269e-01  4.63925511e-01  1.67343393e-01\n",
            "     2.51491606e-01 -5.25962591e-01]\n",
            "   [-5.07019520e-01 -7.17913285e-02 -5.27450502e-01 -2.98946321e-01\n",
            "    -1.55979455e-01 -4.44123209e-01  3.82080525e-01  2.30373740e-01\n",
            "     2.40396917e-01 -6.36234403e-01]\n",
            "   [-5.04247248e-01 -3.12602930e-02 -4.66807306e-01 -2.99644113e-01\n",
            "    -1.00876436e-01 -4.74282086e-01  4.22060072e-01  1.27843663e-01\n",
            "     2.50260055e-01 -7.59232283e-01]\n",
            "   [-5.29237151e-01 -7.38270357e-02 -5.48271060e-01 -2.42577374e-01\n",
            "    -1.94563508e-01 -3.73641133e-01  3.60652357e-01  1.61726564e-01\n",
            "     3.32756102e-01 -6.47302985e-01]\n",
            "   [-4.66479480e-01 -1.49054468e-01 -6.22039080e-01 -3.00064057e-01\n",
            "    -1.85557082e-01 -4.35889095e-01  3.20342541e-01  1.12064213e-01\n",
            "     1.89704582e-01 -6.56930208e-01]\n",
            "   [-3.37361485e-01 -7.57577196e-02 -5.30934513e-01 -2.04459369e-01\n",
            "    -1.84973150e-01 -4.48054135e-01  2.51328439e-01  9.74472463e-02\n",
            "     2.17451096e-01 -5.23005188e-01]]\n",
            "\n",
            "  [[-4.36892211e-01 -1.77668959e-01 -3.73642266e-01 -2.60208607e-01\n",
            "    -1.70066535e-01 -1.79821059e-01  3.56708050e-01  2.36603349e-01\n",
            "     6.85791075e-02 -4.33633178e-01]\n",
            "   [-4.41284925e-01 -2.79236287e-01 -3.37189734e-01 -3.84593874e-01\n",
            "    -1.86859444e-01 -1.87858969e-01  3.41755033e-01  2.44577184e-01\n",
            "     1.14818051e-01 -5.08928180e-01]\n",
            "   [-4.32537436e-01 -8.96427780e-02 -3.14846098e-01 -2.64101237e-01\n",
            "    -1.89431548e-01 -2.82626569e-01  3.99372190e-01  2.60890901e-01\n",
            "     1.60477325e-01 -5.90907931e-01]\n",
            "   [-4.73220527e-01 -1.95341304e-01 -3.56358320e-01 -2.82070935e-01\n",
            "    -2.15023071e-01 -3.74079078e-01  4.68544722e-01  1.54561102e-01\n",
            "     1.49892747e-01 -6.43480718e-01]\n",
            "   [-3.01941276e-01 -6.20927066e-02 -4.30035979e-01 -3.71965438e-01\n",
            "    -2.22244561e-01 -3.44540983e-01  4.77796942e-01  1.84648871e-01\n",
            "     3.65514338e-01 -6.81611598e-01]\n",
            "   [-3.61091137e-01  5.26757538e-03 -4.15026039e-01 -3.37282062e-01\n",
            "    -1.19576499e-01 -4.60965335e-01  5.25664747e-01  1.95249930e-01\n",
            "     3.25271845e-01 -7.41302609e-01]\n",
            "   [-4.02416527e-01 -5.56382090e-02 -4.01760161e-01 -3.78049731e-01\n",
            "    -1.82960615e-01 -4.78901923e-01  4.14022446e-01  2.70816684e-01\n",
            "     3.90682191e-01 -7.54253805e-01]\n",
            "   [-4.65495765e-01 -4.17716056e-02 -4.10545737e-01 -3.95998538e-01\n",
            "    -2.73738235e-01 -4.97714996e-01  3.29056948e-01  2.60024071e-01\n",
            "     4.86521125e-01 -6.72891200e-01]\n",
            "   [-3.38499665e-01 -1.34608895e-01 -5.64035654e-01 -3.44133019e-01\n",
            "    -3.47963989e-01 -4.50844944e-01  1.96006641e-01  1.43946618e-01\n",
            "     3.67468208e-01 -7.53417850e-01]\n",
            "   [-3.48717541e-01 -9.81340781e-02 -4.93392825e-01 -3.42264265e-01\n",
            "    -2.58228958e-01 -4.95808572e-01  2.22430304e-01  1.66056320e-01\n",
            "     2.96885848e-01 -6.48202419e-01]]\n",
            "\n",
            "  [[-4.36128289e-01 -1.14657342e-01 -3.41098905e-01 -2.78629601e-01\n",
            "    -1.82746768e-01 -2.90320754e-01  3.40496093e-01  2.98775047e-01\n",
            "     4.32986766e-02 -5.01426339e-01]\n",
            "   [-5.27616024e-01 -1.26096189e-01 -3.41824353e-01 -3.38268876e-01\n",
            "    -3.13670188e-01 -1.53027013e-01  3.30740988e-01  2.47740477e-01\n",
            "     2.98657954e-01 -6.17215276e-01]\n",
            "   [-3.64615887e-01 -1.27821982e-01 -2.76176006e-01 -2.85858929e-01\n",
            "    -2.38593265e-01 -1.99329212e-01  4.66717660e-01  1.88449979e-01\n",
            "     2.29115978e-01 -7.18197346e-01]\n",
            "   [-3.57740313e-01 -1.79191232e-01 -3.51120114e-01 -3.80841315e-01\n",
            "    -3.31211507e-01 -3.09417546e-01  4.30388093e-01  2.23034590e-01\n",
            "     3.34370345e-01 -6.41856432e-01]\n",
            "   [-2.60334253e-01 -3.81777361e-02 -3.76451135e-01 -3.90824288e-01\n",
            "    -2.68985361e-01 -4.22584355e-01  4.81959879e-01  1.94642544e-01\n",
            "     4.72950190e-01 -5.57469964e-01]\n",
            "   [-3.24799895e-01 -8.31466168e-02 -2.39157915e-01 -4.50987309e-01\n",
            "    -2.83628643e-01 -4.69589770e-01  5.25817633e-01  1.47347048e-01\n",
            "     3.41179669e-01 -7.17238307e-01]\n",
            "   [-2.97880650e-01 -1.79054499e-01 -2.86727548e-01 -5.26919127e-01\n",
            "    -2.80936956e-01 -4.90976959e-01  3.85678828e-01  2.52343178e-01\n",
            "     4.20874774e-01 -6.50878549e-01]\n",
            "   [-3.58797431e-01 -7.12193102e-02 -3.34079623e-01 -4.86693382e-01\n",
            "    -2.61926860e-01 -6.14391863e-01  2.87981540e-01  2.96014667e-01\n",
            "     3.78494680e-01 -7.12665915e-01]\n",
            "   [-3.19338709e-01 -7.00323135e-02 -4.54783738e-01 -3.87241066e-01\n",
            "    -2.48732179e-01 -5.10516584e-01  2.08406240e-01  1.91143185e-01\n",
            "     3.62281859e-01 -7.04671741e-01]\n",
            "   [-3.41593236e-01  4.95861545e-02 -3.86490643e-01 -2.64862537e-01\n",
            "    -1.97754249e-01 -4.55249250e-01  2.48155594e-01  1.46032393e-01\n",
            "     3.01770508e-01 -7.81988144e-01]]\n",
            "\n",
            "  [[-3.84480596e-01 -1.22129746e-01 -2.75833189e-01 -3.30078065e-01\n",
            "    -1.57413960e-01 -2.66229033e-01  4.60960358e-01  2.64663965e-01\n",
            "     2.79544920e-01 -4.65741217e-01]\n",
            "   [-4.15970683e-01 -1.75887585e-01 -3.40328723e-01 -3.63339484e-01\n",
            "    -1.70040637e-01 -3.51106107e-01  4.07418936e-01  2.99599588e-01\n",
            "     3.00747633e-01 -5.43237746e-01]\n",
            "   [-3.53860825e-01 -2.00130343e-01 -3.18417400e-01 -3.84114444e-01\n",
            "    -2.53565878e-01 -3.88393044e-01  3.36306334e-01  2.22275063e-01\n",
            "     3.27130437e-01 -5.45332909e-01]\n",
            "   [-2.58707106e-01 -1.31029397e-01 -4.01714772e-01 -4.07972246e-01\n",
            "    -3.07909995e-01 -4.65978116e-01  3.54559988e-01  2.15277821e-01\n",
            "     3.25520188e-01 -5.79419434e-01]\n",
            "   [-2.63455123e-01 -7.65944496e-02 -3.77265841e-01 -3.41710180e-01\n",
            "    -1.83340475e-01 -5.29868126e-01  3.84849191e-01  1.66488662e-01\n",
            "     3.09883237e-01 -5.64643025e-01]\n",
            "   [-2.18574345e-01 -5.33905998e-02 -2.57775247e-01 -3.49798799e-01\n",
            "    -1.88547194e-01 -4.22861040e-01  3.26417357e-01  1.18718207e-01\n",
            "     3.12691212e-01 -6.25696778e-01]\n",
            "   [-2.93892056e-01 -6.00669980e-02 -2.32484609e-01 -3.39450717e-01\n",
            "    -2.14601129e-01 -4.04934466e-01  3.43395323e-01  1.30299240e-01\n",
            "     3.31495464e-01 -5.64416528e-01]\n",
            "   [-2.79228777e-01 -9.95419994e-02 -2.20646411e-01 -3.41549963e-01\n",
            "    -2.35827357e-01 -3.46586257e-01  3.76162082e-01  1.37220934e-01\n",
            "     2.84454048e-01 -5.86556911e-01]\n",
            "   [-2.75733829e-01  9.80477780e-03 -3.28243971e-01 -3.17956209e-01\n",
            "    -1.67426527e-01 -3.94161105e-01  3.07545513e-01  1.68394268e-01\n",
            "     3.50575358e-01 -5.68374455e-01]\n",
            "   [-2.97271967e-01  9.70151126e-02 -3.34215969e-01 -3.52635264e-01\n",
            "    -1.71465158e-01 -4.41469610e-01  3.76380354e-01  1.84498891e-01\n",
            "     1.24546818e-01 -6.53625190e-01]]\n",
            "\n",
            "  [[-3.19032758e-01 -1.15420029e-01 -2.43998110e-01 -3.17953527e-01\n",
            "    -1.74262255e-01 -3.30981821e-01  4.08217311e-01  1.81151748e-01\n",
            "     2.14433908e-01 -4.97621000e-01]\n",
            "   [-3.05833936e-01 -1.33244351e-01 -3.59280109e-01 -4.53562617e-01\n",
            "    -2.09991023e-01 -4.69050467e-01  3.89336199e-01  2.29445100e-01\n",
            "     2.30540112e-01 -5.11959732e-01]\n",
            "   [-3.24935764e-01 -4.05330323e-02 -3.82286787e-01 -3.27611655e-01\n",
            "    -1.96746111e-01 -5.00091374e-01  3.13145697e-01  1.71067223e-01\n",
            "     2.43238106e-01 -5.60445428e-01]\n",
            "   [-3.62671137e-01 -3.70730087e-03 -4.12640184e-01 -2.80602187e-01\n",
            "    -1.95708632e-01 -4.79240447e-01  2.78143615e-01  2.06111223e-01\n",
            "     2.65372097e-01 -6.20644033e-01]\n",
            "   [-3.21827948e-01  2.62879170e-02 -3.86278719e-01 -2.43156508e-01\n",
            "    -1.39661163e-01 -3.92387658e-01  2.47302696e-01  1.37879431e-01\n",
            "     2.37842619e-01 -6.10376716e-01]\n",
            "   [-2.61089563e-01 -1.97434425e-03 -3.43528807e-01 -2.17561126e-01\n",
            "    -1.82595909e-01 -3.18162322e-01  3.10173720e-01  1.86476916e-01\n",
            "     2.62776732e-01 -4.87323761e-01]\n",
            "   [-2.52107590e-01 -8.98001045e-02 -2.70458460e-01 -2.66392052e-01\n",
            "    -1.24377780e-01 -3.81916285e-01  3.84943843e-01  1.52141333e-01\n",
            "     2.20633179e-01 -4.21665430e-01]\n",
            "   [-2.01527908e-01  2.29869038e-03 -2.80854642e-01 -2.84588009e-01\n",
            "    -1.47042468e-01 -3.13800126e-01  3.66018087e-01  1.87063709e-01\n",
            "     2.08675116e-01 -3.92975628e-01]\n",
            "   [-2.09007353e-01 -5.96303046e-02 -2.46010154e-01 -2.80715764e-01\n",
            "    -1.08799674e-01 -3.15272659e-01  3.46219242e-01  1.09954923e-01\n",
            "     2.29984403e-01 -4.29753125e-01]\n",
            "   [-2.60007083e-01 -3.87323610e-02 -2.84342587e-01 -3.31777275e-01\n",
            "    -1.29502520e-01 -4.43298340e-01  3.47809464e-01  2.05635488e-01\n",
            "     1.43667117e-01 -4.77103651e-01]]]], shape=(1, 10, 10, 10), dtype=float32)\n"
          ]
        }
      ]
    },
    {
      "cell_type": "code",
      "metadata": {
        "id": "k5WYqMWwUj8V"
      },
      "source": [
        "model.compile(optimizer='Adam',\n",
        "              loss=keras.losses.SparseCategoricalCrossentropy(from_logits=True),\n",
        "              metrics=['acc'])"
      ],
      "execution_count": 23,
      "outputs": []
    },
    {
      "cell_type": "code",
      "metadata": {
        "colab": {
          "base_uri": "https://localhost:8080/"
        },
        "id": "Z7JAVkYaUk3M",
        "outputId": "37f96f36-f235-44f6-a90d-8807e65d8eee"
      },
      "source": [
        "model.fit(x=train_inputs,\n",
        "          y=train_labels,\n",
        "          batch_size=8,\n",
        "          epochs=20,\n",
        "          validation_data=(test_inputs,test_labels))"
      ],
      "execution_count": 24,
      "outputs": [
        {
          "output_type": "stream",
          "name": "stdout",
          "text": [
            "Epoch 1/20\n"
          ]
        },
        {
          "output_type": "stream",
          "name": "stderr",
          "text": [
            "/usr/local/lib/python3.7/dist-packages/tensorflow/python/util/dispatch.py:1096: UserWarning: \"`sparse_categorical_crossentropy` received `from_logits=True`, but the `output` argument was produced by a sigmoid or softmax activation and thus does not represent logits. Was this intended?\"\n",
            "  return dispatch_target(*args, **kwargs)\n"
          ]
        },
        {
          "output_type": "stream",
          "name": "stdout",
          "text": [
            "6250/6250 [==============================] - 22s 3ms/step - loss: 1.9187 - acc: 0.3035 - val_loss: 1.8010 - val_acc: 0.3499\n",
            "Epoch 2/20\n",
            "6250/6250 [==============================] - 21s 3ms/step - loss: 1.8198 - acc: 0.3395 - val_loss: 1.7848 - val_acc: 0.3553\n",
            "Epoch 3/20\n",
            "6250/6250 [==============================] - 21s 3ms/step - loss: 1.7854 - acc: 0.3525 - val_loss: 1.7546 - val_acc: 0.3695\n",
            "Epoch 4/20\n",
            "6250/6250 [==============================] - 21s 3ms/step - loss: 1.7669 - acc: 0.3637 - val_loss: 1.7429 - val_acc: 0.3728\n",
            "Epoch 5/20\n",
            "6250/6250 [==============================] - 21s 3ms/step - loss: 1.7494 - acc: 0.3695 - val_loss: 1.7326 - val_acc: 0.3780\n",
            "Epoch 6/20\n",
            "6250/6250 [==============================] - 21s 3ms/step - loss: 1.7384 - acc: 0.3770 - val_loss: 1.7794 - val_acc: 0.3489\n",
            "Epoch 7/20\n",
            "6250/6250 [==============================] - 21s 3ms/step - loss: 1.7319 - acc: 0.3780 - val_loss: 1.7141 - val_acc: 0.3880\n",
            "Epoch 8/20\n",
            "6250/6250 [==============================] - 21s 3ms/step - loss: 1.7179 - acc: 0.3824 - val_loss: 1.6993 - val_acc: 0.3881\n",
            "Epoch 9/20\n",
            "6250/6250 [==============================] - 21s 3ms/step - loss: 1.7033 - acc: 0.3880 - val_loss: 1.6952 - val_acc: 0.3898\n",
            "Epoch 10/20\n",
            "6250/6250 [==============================] - 21s 3ms/step - loss: 1.6936 - acc: 0.3912 - val_loss: 1.6936 - val_acc: 0.3843\n",
            "Epoch 11/20\n",
            "6250/6250 [==============================] - 22s 3ms/step - loss: 1.6857 - acc: 0.3941 - val_loss: 1.6734 - val_acc: 0.3990\n",
            "Epoch 12/20\n",
            "6250/6250 [==============================] - 22s 3ms/step - loss: 1.6830 - acc: 0.3945 - val_loss: 1.6958 - val_acc: 0.3887\n",
            "Epoch 13/20\n",
            "6250/6250 [==============================] - 21s 3ms/step - loss: 1.6757 - acc: 0.3982 - val_loss: 1.6931 - val_acc: 0.3837\n",
            "Epoch 14/20\n",
            "6250/6250 [==============================] - 21s 3ms/step - loss: 1.6715 - acc: 0.4023 - val_loss: 1.6866 - val_acc: 0.3886\n",
            "Epoch 15/20\n",
            "6250/6250 [==============================] - 21s 3ms/step - loss: 1.6678 - acc: 0.4007 - val_loss: 1.6869 - val_acc: 0.3928\n",
            "Epoch 16/20\n",
            "6250/6250 [==============================] - 21s 3ms/step - loss: 1.6643 - acc: 0.4033 - val_loss: 1.7295 - val_acc: 0.3865\n",
            "Epoch 17/20\n",
            "6250/6250 [==============================] - 21s 3ms/step - loss: 1.6622 - acc: 0.4021 - val_loss: 1.7043 - val_acc: 0.3919\n",
            "Epoch 18/20\n",
            "6250/6250 [==============================] - 21s 3ms/step - loss: 1.6583 - acc: 0.4049 - val_loss: 1.6655 - val_acc: 0.3971\n",
            "Epoch 19/20\n",
            "6250/6250 [==============================] - 21s 3ms/step - loss: 1.6548 - acc: 0.4026 - val_loss: 1.7311 - val_acc: 0.3787\n",
            "Epoch 20/20\n",
            "6250/6250 [==============================] - 21s 3ms/step - loss: 1.6534 - acc: 0.4053 - val_loss: 1.7274 - val_acc: 0.3727\n"
          ]
        },
        {
          "output_type": "execute_result",
          "data": {
            "text/plain": [
              "<keras.callbacks.History at 0x7f46dd547b10>"
            ]
          },
          "metadata": {},
          "execution_count": 24
        }
      ]
    },
    {
      "cell_type": "code",
      "metadata": {
        "id": "_cgGrlj-UlhE"
      },
      "source": [
        "model = keras.Sequential([    \n",
        "                          keras.Input(shape=(32,32,3)),\n",
        "                          keras.layers.Conv2D(12, (5, 5)),\n",
        "                          keras.layers.MaxPooling2D((2, 2)),\n",
        "                          keras.layers.Conv2D(8, (5, 5)),\n",
        "                          keras.layers.Flatten(),\n",
        "                          keras.layers.Dense(10,activation = 'softmax'),\n",
        "\n",
        "\n",
        "                          #Convolution layer 2개, Pooling layer 하나, flatten, FC layer(dense)로 모델을 완성하세요\n",
        "\n",
        "                          ])"
      ],
      "execution_count": 25,
      "outputs": []
    },
    {
      "cell_type": "code",
      "metadata": {
        "id": "KwGvVNi0Uxzd"
      },
      "source": [
        "model.compile(optimizer='Adam',\n",
        "              loss=keras.losses.SparseCategoricalCrossentropy(from_logits=True),\n",
        "              metrics=['acc'])"
      ],
      "execution_count": 26,
      "outputs": []
    },
    {
      "cell_type": "code",
      "metadata": {
        "id": "65tItXIsUznx",
        "colab": {
          "base_uri": "https://localhost:8080/"
        },
        "outputId": "a299da1f-4e07-47dc-d301-fce18e8ce448"
      },
      "source": [
        "model.fit(x=train_inputs,\n",
        "          y=train_labels,\n",
        "          batch_size=8,\n",
        "          epochs=20,\n",
        "          validation_data=(test_inputs,test_labels))"
      ],
      "execution_count": 21,
      "outputs": [
        {
          "output_type": "stream",
          "name": "stdout",
          "text": [
            "Epoch 1/20\n"
          ]
        },
        {
          "output_type": "stream",
          "name": "stderr",
          "text": [
            "/usr/local/lib/python3.7/dist-packages/tensorflow/python/util/dispatch.py:1096: UserWarning: \"`sparse_categorical_crossentropy` received `from_logits=True`, but the `output` argument was produced by a sigmoid or softmax activation and thus does not represent logits. Was this intended?\"\n",
            "  return dispatch_target(*args, **kwargs)\n"
          ]
        },
        {
          "output_type": "stream",
          "name": "stdout",
          "text": [
            "6250/6250 [==============================] - 31s 4ms/step - loss: 1.7043 - acc: 0.4028 - val_loss: 1.6201 - val_acc: 0.4347\n",
            "Epoch 2/20\n",
            "6250/6250 [==============================] - 28s 4ms/step - loss: 1.4916 - acc: 0.4841 - val_loss: 1.4604 - val_acc: 0.4981\n",
            "Epoch 3/20\n",
            "6250/6250 [==============================] - 31s 5ms/step - loss: 1.3984 - acc: 0.5202 - val_loss: 1.4642 - val_acc: 0.5126\n",
            "Epoch 4/20\n",
            "6250/6250 [==============================] - 31s 5ms/step - loss: 1.3532 - acc: 0.5355 - val_loss: 1.4159 - val_acc: 0.5153\n",
            "Epoch 5/20\n",
            "6250/6250 [==============================] - 28s 4ms/step - loss: 1.3357 - acc: 0.5431 - val_loss: 1.3859 - val_acc: 0.5326\n",
            "Epoch 6/20\n",
            "6250/6250 [==============================] - 30s 5ms/step - loss: 1.3168 - acc: 0.5476 - val_loss: 1.3480 - val_acc: 0.5362\n",
            "Epoch 7/20\n",
            "6250/6250 [==============================] - 30s 5ms/step - loss: 1.3040 - acc: 0.5546 - val_loss: 1.3684 - val_acc: 0.5226\n",
            "Epoch 8/20\n",
            "6250/6250 [==============================] - 28s 4ms/step - loss: 1.2958 - acc: 0.5556 - val_loss: 1.4246 - val_acc: 0.5293\n",
            "Epoch 9/20\n",
            "6250/6250 [==============================] - 28s 4ms/step - loss: 1.2846 - acc: 0.5588 - val_loss: 1.3352 - val_acc: 0.5424\n",
            "Epoch 10/20\n",
            "6250/6250 [==============================] - 28s 4ms/step - loss: 1.2808 - acc: 0.5622 - val_loss: 1.3510 - val_acc: 0.5379\n",
            "Epoch 11/20\n",
            "6250/6250 [==============================] - 31s 5ms/step - loss: 1.2694 - acc: 0.5630 - val_loss: 1.3614 - val_acc: 0.5375\n",
            "Epoch 12/20\n",
            "6250/6250 [==============================] - 30s 5ms/step - loss: 1.2643 - acc: 0.5681 - val_loss: 1.3649 - val_acc: 0.5375\n",
            "Epoch 13/20\n",
            "6250/6250 [==============================] - 30s 5ms/step - loss: 1.2619 - acc: 0.5664 - val_loss: 1.3543 - val_acc: 0.5372\n",
            "Epoch 14/20\n",
            "6250/6250 [==============================] - 28s 5ms/step - loss: 1.2548 - acc: 0.5692 - val_loss: 1.3033 - val_acc: 0.5537\n",
            "Epoch 15/20\n",
            "6250/6250 [==============================] - 28s 4ms/step - loss: 1.2549 - acc: 0.5709 - val_loss: 1.3473 - val_acc: 0.5396\n",
            "Epoch 16/20\n",
            "6250/6250 [==============================] - 30s 5ms/step - loss: 1.2502 - acc: 0.5704 - val_loss: 1.3412 - val_acc: 0.5417\n",
            "Epoch 17/20\n",
            "6250/6250 [==============================] - 31s 5ms/step - loss: 1.2423 - acc: 0.5729 - val_loss: 1.2829 - val_acc: 0.5632\n",
            "Epoch 18/20\n",
            "6250/6250 [==============================] - 28s 5ms/step - loss: 1.2431 - acc: 0.5738 - val_loss: 1.3611 - val_acc: 0.5402\n",
            "Epoch 19/20\n",
            "6250/6250 [==============================] - 29s 5ms/step - loss: 1.2372 - acc: 0.5758 - val_loss: 1.2678 - val_acc: 0.5677\n",
            "Epoch 20/20\n",
            "6250/6250 [==============================] - 29s 5ms/step - loss: 1.2340 - acc: 0.5772 - val_loss: 1.3175 - val_acc: 0.5518\n"
          ]
        },
        {
          "output_type": "execute_result",
          "data": {
            "text/plain": [
              "<keras.callbacks.History at 0x7f46dd606950>"
            ]
          },
          "metadata": {},
          "execution_count": 21
        }
      ]
    }
  ]
}