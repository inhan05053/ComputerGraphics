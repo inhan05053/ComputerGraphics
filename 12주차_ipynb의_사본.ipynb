{
  "nbformat": 4,
  "nbformat_minor": 0,
  "metadata": {
    "colab": {
      "name": "12주차.ipynb의 사본",
      "provenance": [],
      "collapsed_sections": [],
      "include_colab_link": true
    },
    "kernelspec": {
      "name": "python3",
      "display_name": "Python 3"
    },
    "language_info": {
      "name": "python"
    },
    "accelerator": "GPU"
  },
  "cells": [
    {
      "cell_type": "markdown",
      "metadata": {
        "id": "view-in-github",
        "colab_type": "text"
      },
      "source": [
        "<a href=\"https://colab.research.google.com/github/inhan05053/ComputerGraphics/blob/main/12%EC%A3%BC%EC%B0%A8_ipynb%EC%9D%98_%EC%82%AC%EB%B3%B8.ipynb\" target=\"_parent\"><img src=\"https://colab.research.google.com/assets/colab-badge.svg\" alt=\"Open In Colab\"/></a>"
      ]
    },
    {
      "cell_type": "code",
      "metadata": {
        "id": "HuIVO7H1VCnA"
      },
      "source": [
        "import matplotlib.pyplot as plt\n",
        "import numpy as np\n",
        "import os\n",
        "import PIL\n",
        "import tensorflow as tf\n",
        "import matplotlib.pyplot as plt\n",
        "\n",
        "\n",
        "from tensorflow import keras\n",
        "from tensorflow.keras import layers"
      ],
      "execution_count": null,
      "outputs": []
    },
    {
      "cell_type": "code",
      "metadata": {
        "colab": {
          "base_uri": "https://localhost:8080/"
        },
        "id": "OAdohE_AE9ud",
        "outputId": "2302c840-1f0c-46b0-a52d-5626e7aa4baa"
      },
      "source": [
        "import pathlib\n",
        "dataset_url = \"https://storage.googleapis.com/download.tensorflow.org/example_images/flower_photos.tgz\"\n",
        "data_dir = tf.keras.utils.get_file('flower_photos', origin=dataset_url, untar=True)\n",
        "data_dir = pathlib.Path(data_dir)"
      ],
      "execution_count": null,
      "outputs": [
        {
          "output_type": "stream",
          "name": "stdout",
          "text": [
            "Downloading data from https://storage.googleapis.com/download.tensorflow.org/example_images/flower_photos.tgz\n",
            "228818944/228813984 [==============================] - 7s 0us/step\n",
            "228827136/228813984 [==============================] - 7s 0us/step\n"
          ]
        }
      ]
    },
    {
      "cell_type": "code",
      "metadata": {
        "id": "f2O9vK5UE_d_"
      },
      "source": [
        "input_shape = (224,224)\n",
        "batch_size = 32"
      ],
      "execution_count": null,
      "outputs": []
    },
    {
      "cell_type": "code",
      "metadata": {
        "colab": {
          "base_uri": "https://localhost:8080/"
        },
        "id": "7wHFpFBEFDX0",
        "outputId": "afa01202-424c-4620-d761-d65a9522f209"
      },
      "source": [
        "train_ds = tf.keras.preprocessing.image_dataset_from_directory(\n",
        "  data_dir,\n",
        "  validation_split=0.2,\n",
        "  subset=\"training\",\n",
        "  seed=123,\n",
        "  image_size=input_shape,\n",
        "  batch_size=batch_size)"
      ],
      "execution_count": null,
      "outputs": [
        {
          "output_type": "stream",
          "name": "stdout",
          "text": [
            "Found 3670 files belonging to 5 classes.\n",
            "Using 2936 files for training.\n"
          ]
        }
      ]
    },
    {
      "cell_type": "code",
      "metadata": {
        "colab": {
          "base_uri": "https://localhost:8080/"
        },
        "id": "KLSyeUmzFEnh",
        "outputId": "402811a0-b807-4465-e567-909c2ed8134a"
      },
      "source": [
        "val_ds = tf.keras.preprocessing.image_dataset_from_directory(\n",
        "  data_dir,\n",
        "  validation_split=0.2,\n",
        "  subset=\"validation\",\n",
        "  seed=123,\n",
        "  image_size=input_shape,\n",
        "  batch_size=batch_size)"
      ],
      "execution_count": null,
      "outputs": [
        {
          "output_type": "stream",
          "name": "stdout",
          "text": [
            "Found 3670 files belonging to 5 classes.\n",
            "Using 734 files for validation.\n"
          ]
        }
      ]
    },
    {
      "cell_type": "code",
      "metadata": {
        "id": "jtMmcuSTFF02"
      },
      "source": [
        "num_classes = 5\n",
        "input_shape = (224,224,3)\n",
        "\n",
        "model_input = keras.Input(shape=(224, 224,3), name=\"f_input\")\n",
        "x = layers.Conv2D(16, 3,padding=\"same\", activation=\"relu\")(model_input)\n",
        "x = layers.MaxPooling2D()(x)\n",
        "x = layers.Conv2D(32, 3,padding=\"same\", activation=\"relu\")(x)\n",
        "x = layers.MaxPooling2D()(x)\n",
        "x = layers.Conv2D(64, 3,padding=\"same\", activation=\"relu\")(x)\n",
        "x = layers.MaxPooling2D()(x)\n",
        "x = layers.Flatten()(x)\n",
        "x = layers.Dense(128,activation=\"relu\")(x)\n",
        "model_output = layers.Dense(num_classes,activation=\"softmax\")(x)\n",
        "\n",
        "functional_model = keras.Model(model_input, model_output, name=\"functional_model\")"
      ],
      "execution_count": null,
      "outputs": []
    },
    {
      "cell_type": "code",
      "metadata": {
        "colab": {
          "base_uri": "https://localhost:8080/"
        },
        "id": "nAnpj4pOGLUF",
        "outputId": "39cb8c76-db70-4bad-e9cc-59222c2ebe9b"
      },
      "source": [
        "functional_model.summary()"
      ],
      "execution_count": null,
      "outputs": [
        {
          "output_type": "stream",
          "name": "stdout",
          "text": [
            "Model: \"functional_model\"\n",
            "_________________________________________________________________\n",
            " Layer (type)                Output Shape              Param #   \n",
            "=================================================================\n",
            " f_input (InputLayer)        [(None, 224, 224, 3)]     0         \n",
            "                                                                 \n",
            " conv2d (Conv2D)             (None, 224, 224, 16)      448       \n",
            "                                                                 \n",
            " max_pooling2d (MaxPooling2D  (None, 112, 112, 16)     0         \n",
            " )                                                               \n",
            "                                                                 \n",
            " conv2d_1 (Conv2D)           (None, 112, 112, 32)      4640      \n",
            "                                                                 \n",
            " max_pooling2d_1 (MaxPooling  (None, 56, 56, 32)       0         \n",
            " 2D)                                                             \n",
            "                                                                 \n",
            " conv2d_2 (Conv2D)           (None, 56, 56, 64)        18496     \n",
            "                                                                 \n",
            " max_pooling2d_2 (MaxPooling  (None, 28, 28, 64)       0         \n",
            " 2D)                                                             \n",
            "                                                                 \n",
            " flatten (Flatten)           (None, 50176)             0         \n",
            "                                                                 \n",
            " dense (Dense)               (None, 128)               6422656   \n",
            "                                                                 \n",
            " dense_1 (Dense)             (None, 5)                 645       \n",
            "                                                                 \n",
            "=================================================================\n",
            "Total params: 6,446,885\n",
            "Trainable params: 6,446,885\n",
            "Non-trainable params: 0\n",
            "_________________________________________________________________\n"
          ]
        }
      ]
    },
    {
      "cell_type": "code",
      "metadata": {
        "id": "7o8wrOJHGLgR"
      },
      "source": [
        "functional_model.compile(optimizer='Adam',\n",
        "              loss=tf.keras.losses.SparseCategoricalCrossentropy(from_logits=True),\n",
        "              metrics=['acc'])"
      ],
      "execution_count": null,
      "outputs": []
    },
    {
      "cell_type": "code",
      "metadata": {
        "colab": {
          "base_uri": "https://localhost:8080/"
        },
        "id": "zShJkE39GVJx",
        "outputId": "e611bd6c-4538-47a6-8a19-5b50653b42e6"
      },
      "source": [
        "epochs=10\n",
        "history = functional_model.fit(\n",
        "  train_ds,\n",
        "  validation_data=val_ds,\n",
        "  epochs=epochs\n",
        ")"
      ],
      "execution_count": null,
      "outputs": [
        {
          "output_type": "stream",
          "name": "stdout",
          "text": [
            "Epoch 1/10\n"
          ]
        },
        {
          "output_type": "stream",
          "name": "stderr",
          "text": [
            "/usr/local/lib/python3.7/dist-packages/tensorflow/python/util/dispatch.py:1096: UserWarning: \"`sparse_categorical_crossentropy` received `from_logits=True`, but the `output` argument was produced by a sigmoid or softmax activation and thus does not represent logits. Was this intended?\"\n",
            "  return dispatch_target(*args, **kwargs)\n"
          ]
        },
        {
          "output_type": "stream",
          "name": "stdout",
          "text": [
            "92/92 [==============================] - 20s 108ms/step - loss: 31.5087 - acc: 0.2612 - val_loss: 1.5668 - val_acc: 0.3011\n",
            "Epoch 2/10\n",
            "92/92 [==============================] - 10s 100ms/step - loss: 1.4776 - acc: 0.3587 - val_loss: 1.6061 - val_acc: 0.3161\n",
            "Epoch 3/10\n",
            "92/92 [==============================] - 10s 98ms/step - loss: 1.1865 - acc: 0.5388 - val_loss: 1.7420 - val_acc: 0.3597\n",
            "Epoch 4/10\n",
            "92/92 [==============================] - 9s 98ms/step - loss: 0.9189 - acc: 0.6536 - val_loss: 2.2506 - val_acc: 0.3351\n",
            "Epoch 5/10\n",
            "92/92 [==============================] - 10s 99ms/step - loss: 0.6217 - acc: 0.7790 - val_loss: 2.6846 - val_acc: 0.3815\n",
            "Epoch 6/10\n",
            "92/92 [==============================] - 9s 98ms/step - loss: 0.4728 - acc: 0.8522 - val_loss: 3.4379 - val_acc: 0.3706\n",
            "Epoch 7/10\n",
            "92/92 [==============================] - 10s 99ms/step - loss: 0.4502 - acc: 0.8600 - val_loss: 3.1726 - val_acc: 0.3910\n",
            "Epoch 8/10\n",
            "92/92 [==============================] - 9s 98ms/step - loss: 0.3197 - acc: 0.8985 - val_loss: 3.0132 - val_acc: 0.3556\n",
            "Epoch 9/10\n",
            "92/92 [==============================] - 9s 98ms/step - loss: 0.2173 - acc: 0.9319 - val_loss: 3.7445 - val_acc: 0.3733\n",
            "Epoch 10/10\n",
            "92/92 [==============================] - 9s 98ms/step - loss: 0.1593 - acc: 0.9493 - val_loss: 3.6792 - val_acc: 0.3460\n"
          ]
        }
      ]
    },
    {
      "cell_type": "code",
      "metadata": {
        "id": "QUbmJl0RJxvW"
      },
      "source": [
        "num_classes = 5\n",
        "input_shape = (224,224,3)\n",
        "\n",
        "def func_model(num_classes, input_shape):\n",
        "    model_input = keras.Input(shape=input_shape, name=\"f_input\")\n",
        "    x = layers.Conv2D(16, 3,padding=\"same\", activation=\"relu\")(model_input)\n",
        "    x = layers.MaxPooling2D()(x)\n",
        "    x = layers.Conv2D(32, 3,padding=\"same\", activation=\"relu\")(x)\n",
        "    x = layers.MaxPooling2D()(x)\n",
        "    x = layers.Conv2D(64, 3,padding=\"same\", activation=\"relu\")(x)\n",
        "    x = layers.MaxPooling2D()(x)\n",
        "    x = layers.Flatten()(x)\n",
        "    x = layers.Dense(128,activation=\"relu\")(x)\n",
        "    model_output = layers.Dense(num_classes,activation=\"softmax\")(x)\n",
        "\n",
        "    return keras.Model(model_input, model_output, name=\"functional_model\")"
      ],
      "execution_count": null,
      "outputs": []
    },
    {
      "cell_type": "code",
      "metadata": {
        "id": "hFqQwzUZGX3e"
      },
      "source": [
        "functional_model = func_model(num_classes,input_shape)"
      ],
      "execution_count": null,
      "outputs": []
    },
    {
      "cell_type": "code",
      "metadata": {
        "colab": {
          "base_uri": "https://localhost:8080/"
        },
        "id": "IRAxTHW9Kbrx",
        "outputId": "cf6d014c-1fd5-44e4-8cab-2c33c3650443"
      },
      "source": [
        "functional_model.summary()"
      ],
      "execution_count": null,
      "outputs": [
        {
          "output_type": "stream",
          "name": "stdout",
          "text": [
            "Model: \"functional_model\"\n",
            "_________________________________________________________________\n",
            " Layer (type)                Output Shape              Param #   \n",
            "=================================================================\n",
            " f_input (InputLayer)        [(None, 224, 224, 3)]     0         \n",
            "                                                                 \n",
            " conv2d_3 (Conv2D)           (None, 224, 224, 16)      448       \n",
            "                                                                 \n",
            " max_pooling2d_3 (MaxPooling  (None, 112, 112, 16)     0         \n",
            " 2D)                                                             \n",
            "                                                                 \n",
            " conv2d_4 (Conv2D)           (None, 112, 112, 32)      4640      \n",
            "                                                                 \n",
            " max_pooling2d_4 (MaxPooling  (None, 56, 56, 32)       0         \n",
            " 2D)                                                             \n",
            "                                                                 \n",
            " conv2d_5 (Conv2D)           (None, 56, 56, 64)        18496     \n",
            "                                                                 \n",
            " max_pooling2d_5 (MaxPooling  (None, 28, 28, 64)       0         \n",
            " 2D)                                                             \n",
            "                                                                 \n",
            " flatten_1 (Flatten)         (None, 50176)             0         \n",
            "                                                                 \n",
            " dense_2 (Dense)             (None, 128)               6422656   \n",
            "                                                                 \n",
            " dense_3 (Dense)             (None, 5)                 645       \n",
            "                                                                 \n",
            "=================================================================\n",
            "Total params: 6,446,885\n",
            "Trainable params: 6,446,885\n",
            "Non-trainable params: 0\n",
            "_________________________________________________________________\n"
          ]
        }
      ]
    },
    {
      "cell_type": "code",
      "metadata": {
        "id": "vR198fdjKduj"
      },
      "source": [
        "class MyModel(tf.keras.Model):\n",
        "\n",
        "  def __init__(self,num_classes,input_shape):\n",
        "    super().__init__()\n",
        "    self.conv1 = layers.Conv2D(16, 3,padding=\"same\", activation=\"relu\",input_shape=input_shape)\n",
        "    self.conv2 = layers.Conv2D(32, 3,padding=\"same\", activation=\"relu\")\n",
        "    self.conv3 = layers.Conv2D(64, 3,padding=\"same\", activation=\"relu\")\n",
        "    self.maxpool2d = layers.MaxPooling2D()\n",
        "    self.flatten = layers.Flatten()\n",
        "    self.dense1 = layers.Dense(128,activation=\"relu\")\n",
        "    self.dense2 = layers.Dense(num_classes,activation=\"softmax\")\n",
        "    \n",
        "\n",
        "  def call(self, inputs):\n",
        "    x = self.conv1(inputs)\n",
        "    x = self.maxpool2d(x)\n",
        "    x = self.conv2(x)\n",
        "    x = self.maxpool2d(x)\n",
        "    x = self.conv3(x)\n",
        "    x = self.maxpool2d(x)\n",
        "\n",
        "    x = self.flatten(x)\n",
        "    x = self.dense1(x)\n",
        "    out = self.dense2(x)\n",
        "\n",
        "    return out\n",
        "\n",
        "subclass_model = MyModel(num_classes,input_shape)"
      ],
      "execution_count": null,
      "outputs": []
    },
    {
      "cell_type": "code",
      "metadata": {
        "id": "wwsgK1UGT2NK"
      },
      "source": [
        "subclass_model.compile(optimizer='Adam',\n",
        "              loss=tf.keras.losses.SparseCategoricalCrossentropy(from_logits=True),\n",
        "              metrics=['acc'])"
      ],
      "execution_count": null,
      "outputs": []
    },
    {
      "cell_type": "code",
      "metadata": {
        "colab": {
          "base_uri": "https://localhost:8080/"
        },
        "id": "9MrzxrazUC5B",
        "outputId": "6f4dc062-78d1-42f7-c5eb-c5fc97b2930a"
      },
      "source": [
        "epochs=10\n",
        "history = subclass_model.fit(\n",
        "  train_ds,\n",
        "  validation_data=val_ds,\n",
        "  epochs=epochs\n",
        ")"
      ],
      "execution_count": null,
      "outputs": [
        {
          "output_type": "stream",
          "name": "stdout",
          "text": [
            "Epoch 1/10\n"
          ]
        },
        {
          "output_type": "stream",
          "name": "stderr",
          "text": [
            "/usr/local/lib/python3.7/dist-packages/tensorflow/python/util/dispatch.py:1096: UserWarning: \"`sparse_categorical_crossentropy` received `from_logits=True`, but the `output` argument was produced by a sigmoid or softmax activation and thus does not represent logits. Was this intended?\"\n",
            "  return dispatch_target(*args, **kwargs)\n"
          ]
        },
        {
          "output_type": "stream",
          "name": "stdout",
          "text": [
            "92/92 [==============================] - 10s 100ms/step - loss: 18.0675 - acc: 0.2984 - val_loss: 1.5301 - val_acc: 0.3256\n",
            "Epoch 2/10\n",
            "92/92 [==============================] - 10s 99ms/step - loss: 1.3307 - acc: 0.4591 - val_loss: 1.3499 - val_acc: 0.4591\n",
            "Epoch 3/10\n",
            "92/92 [==============================] - 9s 98ms/step - loss: 0.8323 - acc: 0.6863 - val_loss: 1.3017 - val_acc: 0.5109\n",
            "Epoch 4/10\n",
            "92/92 [==============================] - 9s 98ms/step - loss: 0.4649 - acc: 0.8522 - val_loss: 1.6704 - val_acc: 0.5123\n",
            "Epoch 5/10\n",
            "92/92 [==============================] - 9s 98ms/step - loss: 0.2592 - acc: 0.9234 - val_loss: 1.7950 - val_acc: 0.5163\n",
            "Epoch 6/10\n",
            "92/92 [==============================] - 10s 99ms/step - loss: 0.1472 - acc: 0.9584 - val_loss: 2.1654 - val_acc: 0.5232\n",
            "Epoch 7/10\n",
            "92/92 [==============================] - 9s 97ms/step - loss: 0.0746 - acc: 0.9813 - val_loss: 2.7016 - val_acc: 0.4905\n",
            "Epoch 8/10\n",
            "92/92 [==============================] - 10s 99ms/step - loss: 0.0858 - acc: 0.9772 - val_loss: 3.0642 - val_acc: 0.4523\n",
            "Epoch 9/10\n",
            "92/92 [==============================] - 10s 99ms/step - loss: 0.0715 - acc: 0.9823 - val_loss: 2.9656 - val_acc: 0.4578\n",
            "Epoch 10/10\n",
            "92/92 [==============================] - 9s 97ms/step - loss: 0.1084 - acc: 0.9751 - val_loss: 2.8331 - val_acc: 0.4700\n"
          ]
        }
      ]
    },
    {
      "cell_type": "code",
      "metadata": {
        "id": "PMOIYZifUGL9"
      },
      "source": [
        "num_classes = 5\n",
        "input_shape = (224,224,3)\n",
        "\n",
        "model_input = keras.Input(shape=(224, 224,3), name=\"f_input\")\n",
        "x1 = layers.Conv2D(16, 3,padding=\"same\", activation=\"relu\")(model_input)\n",
        "x1 = layers.MaxPooling2D()(x1)\n",
        "x2 = layers.Conv2D(32, 3,padding=\"same\", activation=\"relu\")(x1)\n",
        "x2 = layers.MaxPooling2D()(x2)\n",
        "x3 = layers.Conv2D(64, 3,padding=\"same\", activation=\"relu\")(x1)\n",
        "x3 = layers.MaxPooling2D()(x3)\n",
        "flat2 = layers.Flatten()(x2)\n",
        "flat3 = layers.Flatten()(x3)\n",
        "d1 = layers.Dense(128,activation=\"relu\")(flat2)\n",
        "d2 = layers.Dense(num_classes,activation=\"softmax\")(flat3)\n",
        "\n",
        "functional_model = keras.Model(model_input, (d1,d2))"
      ],
      "execution_count": null,
      "outputs": []
    },
    {
      "cell_type": "code",
      "metadata": {
        "colab": {
          "base_uri": "https://localhost:8080/"
        },
        "id": "UFPURdZGYKNG",
        "outputId": "0504a72f-63b9-4cb5-af8b-6aea278352d6"
      },
      "source": [
        "functional_model.summary()"
      ],
      "execution_count": null,
      "outputs": [
        {
          "output_type": "stream",
          "name": "stdout",
          "text": [
            "Model: \"model\"\n",
            "__________________________________________________________________________________________________\n",
            " Layer (type)                   Output Shape         Param #     Connected to                     \n",
            "==================================================================================================\n",
            " f_input (InputLayer)           [(None, 224, 224, 3  0           []                               \n",
            "                                )]                                                                \n",
            "                                                                                                  \n",
            " conv2d_9 (Conv2D)              (None, 224, 224, 16  448         ['f_input[0][0]']                \n",
            "                                )                                                                 \n",
            "                                                                                                  \n",
            " max_pooling2d_7 (MaxPooling2D)  (None, 112, 112, 16  0          ['conv2d_9[0][0]']               \n",
            "                                )                                                                 \n",
            "                                                                                                  \n",
            " conv2d_10 (Conv2D)             (None, 112, 112, 32  4640        ['max_pooling2d_7[0][0]']        \n",
            "                                )                                                                 \n",
            "                                                                                                  \n",
            " conv2d_11 (Conv2D)             (None, 112, 112, 64  9280        ['max_pooling2d_7[0][0]']        \n",
            "                                )                                                                 \n",
            "                                                                                                  \n",
            " max_pooling2d_8 (MaxPooling2D)  (None, 56, 56, 32)  0           ['conv2d_10[0][0]']              \n",
            "                                                                                                  \n",
            " max_pooling2d_9 (MaxPooling2D)  (None, 56, 56, 64)  0           ['conv2d_11[0][0]']              \n",
            "                                                                                                  \n",
            " flatten_3 (Flatten)            (None, 100352)       0           ['max_pooling2d_8[0][0]']        \n",
            "                                                                                                  \n",
            " flatten_4 (Flatten)            (None, 200704)       0           ['max_pooling2d_9[0][0]']        \n",
            "                                                                                                  \n",
            " dense_6 (Dense)                (None, 128)          12845184    ['flatten_3[0][0]']              \n",
            "                                                                                                  \n",
            " dense_7 (Dense)                (None, 5)            1003525     ['flatten_4[0][0]']              \n",
            "                                                                                                  \n",
            "==================================================================================================\n",
            "Total params: 13,863,077\n",
            "Trainable params: 13,863,077\n",
            "Non-trainable params: 0\n",
            "__________________________________________________________________________________________________\n"
          ]
        }
      ]
    },
    {
      "cell_type": "code",
      "metadata": {
        "id": "H4dWA_ddYLis"
      },
      "source": [
        "num_classes = 5\n",
        "input_shape = (224,224,3)\n",
        "\n",
        "model_input = keras.Input(shape=(224, 224,3), name=\"f_input\")\n",
        "x1 = layers.Conv2D(16, 3,padding=\"same\", activation=\"relu\")(model_input)\n",
        "x1 = layers.MaxPooling2D()(x1)\n",
        "x2 = layers.Conv2D(32, 3,padding=\"same\", activation=\"relu\")(x1)\n",
        "x2 = layers.MaxPooling2D()(x2)\n",
        "x3 = layers.Conv2D(64, 3,padding=\"same\", activation=\"relu\")(x1)\n",
        "x3 = layers.MaxPooling2D()(x3)\n",
        "\n",
        "con1 = layers.Concatenate()([x2,x3])\n",
        "flat = layers.Flatten()(con1)\n",
        "\n",
        "d1 = layers.Dense(128,activation=\"relu\")(flat)\n",
        "d2 = layers.Dense(num_classes,activation=\"softmax\")(d1)\n",
        "\n",
        "functional_model = keras.Model(model_input, d2)"
      ],
      "execution_count": null,
      "outputs": []
    },
    {
      "cell_type": "code",
      "metadata": {
        "colab": {
          "base_uri": "https://localhost:8080/"
        },
        "id": "dFDP2fqRZ5FS",
        "outputId": "d57301d6-e6ff-430c-9338-f1bc38a50a7e"
      },
      "source": [
        "functional_model.summary()"
      ],
      "execution_count": null,
      "outputs": [
        {
          "output_type": "stream",
          "name": "stdout",
          "text": [
            "Model: \"model_1\"\n",
            "__________________________________________________________________________________________________\n",
            " Layer (type)                   Output Shape         Param #     Connected to                     \n",
            "==================================================================================================\n",
            " f_input (InputLayer)           [(None, 224, 224, 3  0           []                               \n",
            "                                )]                                                                \n",
            "                                                                                                  \n",
            " conv2d_12 (Conv2D)             (None, 224, 224, 16  448         ['f_input[0][0]']                \n",
            "                                )                                                                 \n",
            "                                                                                                  \n",
            " max_pooling2d_10 (MaxPooling2D  (None, 112, 112, 16  0          ['conv2d_12[0][0]']              \n",
            " )                              )                                                                 \n",
            "                                                                                                  \n",
            " conv2d_13 (Conv2D)             (None, 112, 112, 32  4640        ['max_pooling2d_10[0][0]']       \n",
            "                                )                                                                 \n",
            "                                                                                                  \n",
            " conv2d_14 (Conv2D)             (None, 112, 112, 64  9280        ['max_pooling2d_10[0][0]']       \n",
            "                                )                                                                 \n",
            "                                                                                                  \n",
            " max_pooling2d_11 (MaxPooling2D  (None, 56, 56, 32)  0           ['conv2d_13[0][0]']              \n",
            " )                                                                                                \n",
            "                                                                                                  \n",
            " max_pooling2d_12 (MaxPooling2D  (None, 56, 56, 64)  0           ['conv2d_14[0][0]']              \n",
            " )                                                                                                \n",
            "                                                                                                  \n",
            " concatenate (Concatenate)      (None, 56, 56, 96)   0           ['max_pooling2d_11[0][0]',       \n",
            "                                                                  'max_pooling2d_12[0][0]']       \n",
            "                                                                                                  \n",
            " flatten_5 (Flatten)            (None, 301056)       0           ['concatenate[0][0]']            \n",
            "                                                                                                  \n",
            " dense_8 (Dense)                (None, 128)          38535296    ['flatten_5[0][0]']              \n",
            "                                                                                                  \n",
            " dense_9 (Dense)                (None, 5)            645         ['dense_8[0][0]']                \n",
            "                                                                                                  \n",
            "==================================================================================================\n",
            "Total params: 38,550,309\n",
            "Trainable params: 38,550,309\n",
            "Non-trainable params: 0\n",
            "__________________________________________________________________________________________________\n"
          ]
        }
      ]
    },
    {
      "cell_type": "code",
      "metadata": {
        "id": "zS93xvu3Z6y8"
      },
      "source": [
        "num_classes = 5\n",
        "input_shape = (224,224,3)\n",
        "\n",
        "model_input = keras.Input(shape=(224, 224,3), name=\"f_input\")\n",
        "conv_1x1 = layers.Conv2D(64, (1,1),padding=\"same\", activation=\"relu\")(model_input)\n",
        "conv_3x3 = layers.Conv2D(128, (3,3),padding=\"same\", activation=\"relu\")(model_input)\n",
        "conv_5x5 = layers.Conv2D(32, (5,5),padding=\"same\", activation=\"relu\")(model_input)\n",
        "maxpool_3x3 = layers.MaxPooling2D(pool_size=(3,3),strides=(1,1),padding=\"same\")(model_input)\n",
        "con1 = layers.Concatenate()([conv_1x1,conv_3x3,conv_5x5,maxpool_3x3])\n",
        "\n",
        "functional_model = keras.Model(model_input, con1, name=\"functional_model\")"
      ],
      "execution_count": null,
      "outputs": []
    },
    {
      "cell_type": "code",
      "metadata": {
        "colab": {
          "base_uri": "https://localhost:8080/"
        },
        "id": "pCDY3kPdiv1r",
        "outputId": "835f4583-2796-49cb-805e-e5bcadf2ef12"
      },
      "source": [
        "functional_model.summary()"
      ],
      "execution_count": null,
      "outputs": [
        {
          "output_type": "stream",
          "name": "stdout",
          "text": [
            "Model: \"functional_model\"\n",
            "__________________________________________________________________________________________________\n",
            " Layer (type)                   Output Shape         Param #     Connected to                     \n",
            "==================================================================================================\n",
            " f_input (InputLayer)           [(None, 224, 224, 3  0           []                               \n",
            "                                )]                                                                \n",
            "                                                                                                  \n",
            " conv2d_15 (Conv2D)             (None, 224, 224, 64  256         ['f_input[0][0]']                \n",
            "                                )                                                                 \n",
            "                                                                                                  \n",
            " conv2d_16 (Conv2D)             (None, 224, 224, 12  3584        ['f_input[0][0]']                \n",
            "                                8)                                                                \n",
            "                                                                                                  \n",
            " conv2d_17 (Conv2D)             (None, 224, 224, 32  2432        ['f_input[0][0]']                \n",
            "                                )                                                                 \n",
            "                                                                                                  \n",
            " max_pooling2d_13 (MaxPooling2D  (None, 224, 224, 3)  0          ['f_input[0][0]']                \n",
            " )                                                                                                \n",
            "                                                                                                  \n",
            " concatenate_1 (Concatenate)    (None, 224, 224, 22  0           ['conv2d_15[0][0]',              \n",
            "                                7)                                'conv2d_16[0][0]',              \n",
            "                                                                  'conv2d_17[0][0]',              \n",
            "                                                                  'max_pooling2d_13[0][0]']       \n",
            "                                                                                                  \n",
            "==================================================================================================\n",
            "Total params: 6,272\n",
            "Trainable params: 6,272\n",
            "Non-trainable params: 0\n",
            "__________________________________________________________________________________________________\n"
          ]
        }
      ]
    },
    {
      "cell_type": "code",
      "metadata": {
        "id": "anXgif_fjdYo",
        "colab": {
          "base_uri": "https://localhost:8080/"
        },
        "outputId": "dd357609-1989-4cf2-a4ee-6606d1a0a75c"
      },
      "source": [
        "\n",
        "\n",
        "\n",
        "\n",
        "def inception_module(input_layer,filter1,filter2,filter3,filter4,filter5,filter6):\n",
        "  x1 =  layers.Conv2D(filters=filter1, kernel_size = (1,1), padding = 'same', activation = 'relu')(input_layer)\n",
        "\n",
        "  x2 = layers.Conv2D(filters = filter2, kernel_size = (1,1), padding = 'same', \n",
        "                 activation = 'relu')(input_layer)\n",
        "  x2 = layers.Conv2D(filters = filter3, kernel_size = (3,3), padding = 'same', \n",
        "                 activation = 'relu')(x2)\n",
        "\n",
        "  x3 = layers.Conv2D(filters = filter4, kernel_size = (1,1), padding = 'same', \n",
        "                 activation = 'relu')(input_layer)\n",
        "  x3 = layers.Conv2D(filters = filter5, kernel_size = (5,5), padding = 'same', \n",
        "                 activation = 'relu')(x3)\n",
        "\n",
        "  x4 = layers.MaxPooling2D((3,3), strides= (1,1), padding = 'same')(input_layer)\n",
        "  x4 = layers.Conv2D(filters = filter6, kernel_size = (1,1), padding = 'same', \n",
        "                 activation = 'relu')(x4)\n",
        "\n",
        "  outputs = layers.concatenate([x1, x2, x3, x4], axis = -1)\n",
        "\n",
        "  return outputs\n",
        "\n",
        "\n",
        "num_classes = 5\n",
        "input_shape = (224,224,3)\n",
        "input_data = keras.Input(shape=(224, 224,3), name=\"f_input\")\n",
        "\n",
        "x = layers.Conv2D(filters=64, kernel_size=(7,7), strides=(2,2), padding=\"same\")(input_data)\n",
        "x = layers.MaxPooling2D(pool_size=(3,3),strides=(2,2),padding=\"SAME\")(x)\n",
        "x = tf.keras.layers.LayerNormalization()(x)\n",
        "\n",
        "x = layers.Conv2D(filters=64,kernel_size=(1,1),strides=(1,1),padding=\"SAME\")(x)\n",
        "x = layers.Conv2D(filters=192,kernel_size=(3,3),strides=(1,1),padding=\"SAME\")(x)\n",
        "\n",
        "x = tf.keras.layers.LayerNormalization()(x)\n",
        "x = layers.MaxPooling2D(pool_size=(3,3),strides=(2,2),padding=\"SAME\")(x)\n",
        "\n",
        "\n",
        "x = inception_module(x,64,96,128,16,32,32)\n",
        "x = inception_module(x,128,128,192,32,96,64)\n",
        "\n",
        "x = layers.MaxPooling2D(pool_size=(3,3),strides=(2,2),padding=\"SAME\")(x)\n",
        "x = inception_module(x,192,96,208,16,48,64)\n",
        "\n",
        "ax1 = layers.AveragePooling2D(pool_size=(5,5),strides=(3,3))(x)\n",
        "ax1 = layers.Conv2D(filters=128,kernel_size=(1,1),padding=\"SAME\")(ax1)\n",
        "ax1 = layers.Flatten()(ax1)\n",
        "ax1 = layers.Dense(1024,activation=\"relu\")(ax1)\n",
        "ax1 = layers.Dropout(0.7)(ax1)\n",
        "ax1 = layers.Dense(1000,activation=\"softmax\")(ax1)\n",
        "\n",
        "x = inception_module(x,160,112,224,24,64,64)\n",
        "x = inception_module(x,128,128,256,24,64,64)\n",
        "\n",
        "x = inception_module(x,112,144,288,32,64,64)\n",
        "\n",
        "ax2 = layers.AveragePooling2D(pool_size=(5,5),strides=(3,3))(x)\n",
        "ax2 = layers.Conv2D(filters=128,kernel_size=(1,1),padding=\"SAME\")(ax2)\n",
        "ax2 = layers.Flatten()(ax2)\n",
        "ax2 = layers.Dense(1024,activation=\"relu\")(ax2)\n",
        "ax2 = layers.Dropout(0.7)(ax2)\n",
        "ax2 = layers.Dense(1000,activation=\"softmax\")(ax2)\n",
        "\n",
        "x = inception_module(x,256,160,320,32,128,128)\n",
        "x = layers.MaxPooling2D(pool_size=(3,3),strides=(2,2),padding=\"SAME\")(x)\n",
        "\n",
        "x = inception_module(x,256,160,320,32,128,128)\n",
        "x = inception_module(x,384,192,384,48,128,128)\n",
        "\n",
        "x = layers.GlobalAveragePooling2D()(x)\n",
        "x = layers.Dropout(0.4)(x)\n",
        "\n",
        "outputs = layers.Dense(1000,activation=\"softmax\")(x)\n",
        "\n",
        "googlenet = tf.keras.models.Model(input_data,[outputs,ax1,ax2],name = 'googlenet')\n",
        "googlenet.summary()"
      ],
      "execution_count": null,
      "outputs": [
        {
          "output_type": "stream",
          "name": "stdout",
          "text": [
            "Model: \"googlenet\"\n",
            "__________________________________________________________________________________________________\n",
            " Layer (type)                   Output Shape         Param #     Connected to                     \n",
            "==================================================================================================\n",
            " f_input (InputLayer)           [(None, 224, 224, 3  0           []                               \n",
            "                                )]                                                                \n",
            "                                                                                                  \n",
            " conv2d_136 (Conv2D)            (None, 112, 112, 64  9472        ['f_input[0][0]']                \n",
            "                                )                                                                 \n",
            "                                                                                                  \n",
            " max_pooling2d_40 (MaxPooling2D  (None, 56, 56, 64)  0           ['conv2d_136[0][0]']             \n",
            " )                                                                                                \n",
            "                                                                                                  \n",
            " layer_normalization_4 (LayerNo  (None, 56, 56, 64)  128         ['max_pooling2d_40[0][0]']       \n",
            " rmalization)                                                                                     \n",
            "                                                                                                  \n",
            " conv2d_137 (Conv2D)            (None, 56, 56, 64)   4160        ['layer_normalization_4[0][0]']  \n",
            "                                                                                                  \n",
            " conv2d_138 (Conv2D)            (None, 56, 56, 192)  110784      ['conv2d_137[0][0]']             \n",
            "                                                                                                  \n",
            " layer_normalization_5 (LayerNo  (None, 56, 56, 192)  384        ['conv2d_138[0][0]']             \n",
            " rmalization)                                                                                     \n",
            "                                                                                                  \n",
            " max_pooling2d_41 (MaxPooling2D  (None, 28, 28, 192)  0          ['layer_normalization_5[0][0]']  \n",
            " )                                                                                                \n",
            "                                                                                                  \n",
            " conv2d_140 (Conv2D)            (None, 28, 28, 96)   18528       ['max_pooling2d_41[0][0]']       \n",
            "                                                                                                  \n",
            " conv2d_142 (Conv2D)            (None, 28, 28, 16)   3088        ['max_pooling2d_41[0][0]']       \n",
            "                                                                                                  \n",
            " max_pooling2d_42 (MaxPooling2D  (None, 28, 28, 192)  0          ['max_pooling2d_41[0][0]']       \n",
            " )                                                                                                \n",
            "                                                                                                  \n",
            " conv2d_139 (Conv2D)            (None, 28, 28, 64)   12352       ['max_pooling2d_41[0][0]']       \n",
            "                                                                                                  \n",
            " conv2d_141 (Conv2D)            (None, 28, 28, 128)  110720      ['conv2d_140[0][0]']             \n",
            "                                                                                                  \n",
            " conv2d_143 (Conv2D)            (None, 28, 28, 32)   12832       ['conv2d_142[0][0]']             \n",
            "                                                                                                  \n",
            " conv2d_144 (Conv2D)            (None, 28, 28, 32)   6176        ['max_pooling2d_42[0][0]']       \n",
            "                                                                                                  \n",
            " concatenate_20 (Concatenate)   (None, 28, 28, 256)  0           ['conv2d_139[0][0]',             \n",
            "                                                                  'conv2d_141[0][0]',             \n",
            "                                                                  'conv2d_143[0][0]',             \n",
            "                                                                  'conv2d_144[0][0]']             \n",
            "                                                                                                  \n",
            " conv2d_146 (Conv2D)            (None, 28, 28, 128)  32896       ['concatenate_20[0][0]']         \n",
            "                                                                                                  \n",
            " conv2d_148 (Conv2D)            (None, 28, 28, 32)   8224        ['concatenate_20[0][0]']         \n",
            "                                                                                                  \n",
            " max_pooling2d_43 (MaxPooling2D  (None, 28, 28, 256)  0          ['concatenate_20[0][0]']         \n",
            " )                                                                                                \n",
            "                                                                                                  \n",
            " conv2d_145 (Conv2D)            (None, 28, 28, 128)  32896       ['concatenate_20[0][0]']         \n",
            "                                                                                                  \n",
            " conv2d_147 (Conv2D)            (None, 28, 28, 192)  221376      ['conv2d_146[0][0]']             \n",
            "                                                                                                  \n",
            " conv2d_149 (Conv2D)            (None, 28, 28, 96)   76896       ['conv2d_148[0][0]']             \n",
            "                                                                                                  \n",
            " conv2d_150 (Conv2D)            (None, 28, 28, 64)   16448       ['max_pooling2d_43[0][0]']       \n",
            "                                                                                                  \n",
            " concatenate_21 (Concatenate)   (None, 28, 28, 480)  0           ['conv2d_145[0][0]',             \n",
            "                                                                  'conv2d_147[0][0]',             \n",
            "                                                                  'conv2d_149[0][0]',             \n",
            "                                                                  'conv2d_150[0][0]']             \n",
            "                                                                                                  \n",
            " max_pooling2d_44 (MaxPooling2D  (None, 14, 14, 480)  0          ['concatenate_21[0][0]']         \n",
            " )                                                                                                \n",
            "                                                                                                  \n",
            " conv2d_152 (Conv2D)            (None, 14, 14, 96)   46176       ['max_pooling2d_44[0][0]']       \n",
            "                                                                                                  \n",
            " conv2d_154 (Conv2D)            (None, 14, 14, 16)   7696        ['max_pooling2d_44[0][0]']       \n",
            "                                                                                                  \n",
            " max_pooling2d_45 (MaxPooling2D  (None, 14, 14, 480)  0          ['max_pooling2d_44[0][0]']       \n",
            " )                                                                                                \n",
            "                                                                                                  \n",
            " conv2d_151 (Conv2D)            (None, 14, 14, 192)  92352       ['max_pooling2d_44[0][0]']       \n",
            "                                                                                                  \n",
            " conv2d_153 (Conv2D)            (None, 14, 14, 208)  179920      ['conv2d_152[0][0]']             \n",
            "                                                                                                  \n",
            " conv2d_155 (Conv2D)            (None, 14, 14, 48)   19248       ['conv2d_154[0][0]']             \n",
            "                                                                                                  \n",
            " conv2d_156 (Conv2D)            (None, 14, 14, 64)   30784       ['max_pooling2d_45[0][0]']       \n",
            "                                                                                                  \n",
            " concatenate_22 (Concatenate)   (None, 14, 14, 512)  0           ['conv2d_151[0][0]',             \n",
            "                                                                  'conv2d_153[0][0]',             \n",
            "                                                                  'conv2d_155[0][0]',             \n",
            "                                                                  'conv2d_156[0][0]']             \n",
            "                                                                                                  \n",
            " conv2d_159 (Conv2D)            (None, 14, 14, 112)  57456       ['concatenate_22[0][0]']         \n",
            "                                                                                                  \n",
            " conv2d_161 (Conv2D)            (None, 14, 14, 24)   12312       ['concatenate_22[0][0]']         \n",
            "                                                                                                  \n",
            " max_pooling2d_46 (MaxPooling2D  (None, 14, 14, 512)  0          ['concatenate_22[0][0]']         \n",
            " )                                                                                                \n",
            "                                                                                                  \n",
            " conv2d_158 (Conv2D)            (None, 14, 14, 160)  82080       ['concatenate_22[0][0]']         \n",
            "                                                                                                  \n",
            " conv2d_160 (Conv2D)            (None, 14, 14, 224)  226016      ['conv2d_159[0][0]']             \n",
            "                                                                                                  \n",
            " conv2d_162 (Conv2D)            (None, 14, 14, 64)   38464       ['conv2d_161[0][0]']             \n",
            "                                                                                                  \n",
            " conv2d_163 (Conv2D)            (None, 14, 14, 64)   32832       ['max_pooling2d_46[0][0]']       \n",
            "                                                                                                  \n",
            " concatenate_23 (Concatenate)   (None, 14, 14, 512)  0           ['conv2d_158[0][0]',             \n",
            "                                                                  'conv2d_160[0][0]',             \n",
            "                                                                  'conv2d_162[0][0]',             \n",
            "                                                                  'conv2d_163[0][0]']             \n",
            "                                                                                                  \n",
            " conv2d_165 (Conv2D)            (None, 14, 14, 128)  65664       ['concatenate_23[0][0]']         \n",
            "                                                                                                  \n",
            " conv2d_167 (Conv2D)            (None, 14, 14, 24)   12312       ['concatenate_23[0][0]']         \n",
            "                                                                                                  \n",
            " max_pooling2d_47 (MaxPooling2D  (None, 14, 14, 512)  0          ['concatenate_23[0][0]']         \n",
            " )                                                                                                \n",
            "                                                                                                  \n",
            " conv2d_164 (Conv2D)            (None, 14, 14, 128)  65664       ['concatenate_23[0][0]']         \n",
            "                                                                                                  \n",
            " conv2d_166 (Conv2D)            (None, 14, 14, 256)  295168      ['conv2d_165[0][0]']             \n",
            "                                                                                                  \n",
            " conv2d_168 (Conv2D)            (None, 14, 14, 64)   38464       ['conv2d_167[0][0]']             \n",
            "                                                                                                  \n",
            " conv2d_169 (Conv2D)            (None, 14, 14, 64)   32832       ['max_pooling2d_47[0][0]']       \n",
            "                                                                                                  \n",
            " concatenate_24 (Concatenate)   (None, 14, 14, 512)  0           ['conv2d_164[0][0]',             \n",
            "                                                                  'conv2d_166[0][0]',             \n",
            "                                                                  'conv2d_168[0][0]',             \n",
            "                                                                  'conv2d_169[0][0]']             \n",
            "                                                                                                  \n",
            " conv2d_171 (Conv2D)            (None, 14, 14, 144)  73872       ['concatenate_24[0][0]']         \n",
            "                                                                                                  \n",
            " conv2d_173 (Conv2D)            (None, 14, 14, 32)   16416       ['concatenate_24[0][0]']         \n",
            "                                                                                                  \n",
            " max_pooling2d_48 (MaxPooling2D  (None, 14, 14, 512)  0          ['concatenate_24[0][0]']         \n",
            " )                                                                                                \n",
            "                                                                                                  \n",
            " conv2d_170 (Conv2D)            (None, 14, 14, 112)  57456       ['concatenate_24[0][0]']         \n",
            "                                                                                                  \n",
            " conv2d_172 (Conv2D)            (None, 14, 14, 288)  373536      ['conv2d_171[0][0]']             \n",
            "                                                                                                  \n",
            " conv2d_174 (Conv2D)            (None, 14, 14, 64)   51264       ['conv2d_173[0][0]']             \n",
            "                                                                                                  \n",
            " conv2d_175 (Conv2D)            (None, 14, 14, 64)   32832       ['max_pooling2d_48[0][0]']       \n",
            "                                                                                                  \n",
            " concatenate_25 (Concatenate)   (None, 14, 14, 528)  0           ['conv2d_170[0][0]',             \n",
            "                                                                  'conv2d_172[0][0]',             \n",
            "                                                                  'conv2d_174[0][0]',             \n",
            "                                                                  'conv2d_175[0][0]']             \n",
            "                                                                                                  \n",
            " conv2d_178 (Conv2D)            (None, 14, 14, 160)  84640       ['concatenate_25[0][0]']         \n",
            "                                                                                                  \n",
            " conv2d_180 (Conv2D)            (None, 14, 14, 32)   16928       ['concatenate_25[0][0]']         \n",
            "                                                                                                  \n",
            " max_pooling2d_49 (MaxPooling2D  (None, 14, 14, 528)  0          ['concatenate_25[0][0]']         \n",
            " )                                                                                                \n",
            "                                                                                                  \n",
            " conv2d_177 (Conv2D)            (None, 14, 14, 256)  135424      ['concatenate_25[0][0]']         \n",
            "                                                                                                  \n",
            " conv2d_179 (Conv2D)            (None, 14, 14, 320)  461120      ['conv2d_178[0][0]']             \n",
            "                                                                                                  \n",
            " conv2d_181 (Conv2D)            (None, 14, 14, 128)  102528      ['conv2d_180[0][0]']             \n",
            "                                                                                                  \n",
            " conv2d_182 (Conv2D)            (None, 14, 14, 128)  67712       ['max_pooling2d_49[0][0]']       \n",
            "                                                                                                  \n",
            " concatenate_26 (Concatenate)   (None, 14, 14, 832)  0           ['conv2d_177[0][0]',             \n",
            "                                                                  'conv2d_179[0][0]',             \n",
            "                                                                  'conv2d_181[0][0]',             \n",
            "                                                                  'conv2d_182[0][0]']             \n",
            "                                                                                                  \n",
            " max_pooling2d_50 (MaxPooling2D  (None, 7, 7, 832)   0           ['concatenate_26[0][0]']         \n",
            " )                                                                                                \n",
            "                                                                                                  \n",
            " conv2d_184 (Conv2D)            (None, 7, 7, 160)    133280      ['max_pooling2d_50[0][0]']       \n",
            "                                                                                                  \n",
            " conv2d_186 (Conv2D)            (None, 7, 7, 32)     26656       ['max_pooling2d_50[0][0]']       \n",
            "                                                                                                  \n",
            " max_pooling2d_51 (MaxPooling2D  (None, 7, 7, 832)   0           ['max_pooling2d_50[0][0]']       \n",
            " )                                                                                                \n",
            "                                                                                                  \n",
            " conv2d_183 (Conv2D)            (None, 7, 7, 256)    213248      ['max_pooling2d_50[0][0]']       \n",
            "                                                                                                  \n",
            " conv2d_185 (Conv2D)            (None, 7, 7, 320)    461120      ['conv2d_184[0][0]']             \n",
            "                                                                                                  \n",
            " conv2d_187 (Conv2D)            (None, 7, 7, 128)    102528      ['conv2d_186[0][0]']             \n",
            "                                                                                                  \n",
            " conv2d_188 (Conv2D)            (None, 7, 7, 128)    106624      ['max_pooling2d_51[0][0]']       \n",
            "                                                                                                  \n",
            " concatenate_27 (Concatenate)   (None, 7, 7, 832)    0           ['conv2d_183[0][0]',             \n",
            "                                                                  'conv2d_185[0][0]',             \n",
            "                                                                  'conv2d_187[0][0]',             \n",
            "                                                                  'conv2d_188[0][0]']             \n",
            "                                                                                                  \n",
            " conv2d_190 (Conv2D)            (None, 7, 7, 192)    159936      ['concatenate_27[0][0]']         \n",
            "                                                                                                  \n",
            " conv2d_192 (Conv2D)            (None, 7, 7, 48)     39984       ['concatenate_27[0][0]']         \n",
            "                                                                                                  \n",
            " max_pooling2d_52 (MaxPooling2D  (None, 7, 7, 832)   0           ['concatenate_27[0][0]']         \n",
            " )                                                                                                \n",
            "                                                                                                  \n",
            " average_pooling2d_4 (AveragePo  (None, 4, 4, 512)   0           ['concatenate_22[0][0]']         \n",
            " oling2D)                                                                                         \n",
            "                                                                                                  \n",
            " average_pooling2d_5 (AveragePo  (None, 4, 4, 528)   0           ['concatenate_25[0][0]']         \n",
            " oling2D)                                                                                         \n",
            "                                                                                                  \n",
            " conv2d_189 (Conv2D)            (None, 7, 7, 384)    319872      ['concatenate_27[0][0]']         \n",
            "                                                                                                  \n",
            " conv2d_191 (Conv2D)            (None, 7, 7, 384)    663936      ['conv2d_190[0][0]']             \n",
            "                                                                                                  \n",
            " conv2d_193 (Conv2D)            (None, 7, 7, 128)    153728      ['conv2d_192[0][0]']             \n",
            "                                                                                                  \n",
            " conv2d_194 (Conv2D)            (None, 7, 7, 128)    106624      ['max_pooling2d_52[0][0]']       \n",
            "                                                                                                  \n",
            " conv2d_157 (Conv2D)            (None, 4, 4, 128)    65664       ['average_pooling2d_4[0][0]']    \n",
            "                                                                                                  \n",
            " conv2d_176 (Conv2D)            (None, 4, 4, 128)    67712       ['average_pooling2d_5[0][0]']    \n",
            "                                                                                                  \n",
            " concatenate_28 (Concatenate)   (None, 7, 7, 1024)   0           ['conv2d_189[0][0]',             \n",
            "                                                                  'conv2d_191[0][0]',             \n",
            "                                                                  'conv2d_193[0][0]',             \n",
            "                                                                  'conv2d_194[0][0]']             \n",
            "                                                                                                  \n",
            " flatten_10 (Flatten)           (None, 2048)         0           ['conv2d_157[0][0]']             \n",
            "                                                                                                  \n",
            " flatten_11 (Flatten)           (None, 2048)         0           ['conv2d_176[0][0]']             \n",
            "                                                                                                  \n",
            " global_average_pooling2d_2 (Gl  (None, 1024)        0           ['concatenate_28[0][0]']         \n",
            " obalAveragePooling2D)                                                                            \n",
            "                                                                                                  \n",
            " dense_20 (Dense)               (None, 1024)         2098176     ['flatten_10[0][0]']             \n",
            "                                                                                                  \n",
            " dense_22 (Dense)               (None, 1024)         2098176     ['flatten_11[0][0]']             \n",
            "                                                                                                  \n",
            " dropout_8 (Dropout)            (None, 1024)         0           ['global_average_pooling2d_2[0][0\n",
            "                                                                 ]']                              \n",
            "                                                                                                  \n",
            " dropout_6 (Dropout)            (None, 1024)         0           ['dense_20[0][0]']               \n",
            "                                                                                                  \n",
            " dropout_7 (Dropout)            (None, 1024)         0           ['dense_22[0][0]']               \n",
            "                                                                                                  \n",
            " dense_24 (Dense)               (None, 1000)         1025000     ['dropout_8[0][0]']              \n",
            "                                                                                                  \n",
            " dense_21 (Dense)               (None, 1000)         1025000     ['dropout_6[0][0]']              \n",
            "                                                                                                  \n",
            " dense_23 (Dense)               (None, 1000)         1025000     ['dropout_7[0][0]']              \n",
            "                                                                                                  \n",
            "==================================================================================================\n",
            "Total params: 13,378,792\n",
            "Trainable params: 13,378,792\n",
            "Non-trainable params: 0\n",
            "__________________________________________________________________________________________________\n"
          ]
        }
      ]
    }
  ]
}